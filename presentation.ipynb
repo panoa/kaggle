{
 "cells": [
  {
   "cell_type": "code",
   "execution_count": 1,
   "metadata": {
    "slideshow": {
     "slide_type": "notes"
    }
   },
   "outputs": [
    {
     "data": {
      "text/html": [
       "<link rel=\"stylesheet\" type=\"text/css\" href=\"titanic.css\">"
      ],
      "text/plain": [
       "<IPython.core.display.HTML object>"
      ]
     },
     "metadata": {},
     "output_type": "display_data"
    }
   ],
   "source": [
    "%%HTML\n",
    "<link rel=\"stylesheet\" type=\"text/css\" href=\"titanic.css\">"
   ]
  },
  {
   "cell_type": "markdown",
   "metadata": {
    "slideshow": {
     "slide_type": "slide"
    }
   },
   "source": [
    "# 機械学習によるデータ分析　ハンズオン\n",
    "\n",
    "---\n",
    "\n",
    "<br><br><br><br>\n",
    "<div style=\"text-align:right;\">\n",
    "<!-- /h3>2018.mm.dd</h3 -->\n",
    "<h4>auther</h4>\n",
    "</div>"
   ]
  },
  {
   "cell_type": "markdown",
   "metadata": {
    "slideshow": {
     "slide_type": "slide"
    }
   },
   "source": [
    "## 目的\n",
    "\n",
    "- 例題を使って、機械学習によるデータ分析の手法を体験する\n",
    "    - pythonによるデータ処理\n",
    "        - データの調査\n",
    "        - データの加工\n",
    "        - ビジュアライズ(グラフ化)\n",
    "        - 機械学習\n",
    "        - etc."
   ]
  },
  {
   "cell_type": "markdown",
   "metadata": {
    "slideshow": {
     "slide_type": "slide"
    }
   },
   "source": [
    "## 題材：タイタニック号の生存者予測\n",
    "1912年4月15日、氷山に衝突して沈没し 2224人の乗員乗客のうち1502人が亡くなった  \n",
    "ある種の属性(女性、子供、一等船室、等)を持つ人々は生き延びやすかったとされている\n",
    "\n",
    "### インプット\n",
    "- 教師データ：生存結果ありの乗客リスト  \n",
    "- テストデータ：生存結果なしの乗客リスト  \n",
    "\n",
    "### 問題\n",
    "***教師データから生存予測モデルを作り、テストデータの生存者を予測する***\n",
    "\n",
    "### 出展\n",
    "- Kaggleのチュートリアルコンペ (Titanic: Machine Learning from Disaster)\n",
    "    - https://www.kaggle.com/startupsci/titanic-data-science-solutions"
   ]
  },
  {
   "cell_type": "markdown",
   "metadata": {
    "slideshow": {
     "slide_type": "slide"
    }
   },
   "source": [
    "## データ分析の手順\n",
    "\n",
    "1. Definition: 問題の定義\n",
    "    - 何を求めたいのか？\n",
    "        - クラス分類？／数値予測？\n",
    "1. Feature Engineering: データを調査\n",
    "    - 属性、値の範囲、欠損値の有無\n",
    "    - 統計量（最大、最小、平均、中央、最頻、分散、etc.）  \n",
    "    - 欠損値の扱い(補完／除外）\n",
    "    - 数値化、正規化、標準化\n",
    "    - 特徴選択\n",
    "1. Model and Predict: モデル化し問題を解く\n",
    "    - 機械学習アルゴリズムの選択\n",
    "    - モデリング、データの学習\n",
    "    - モデルの精度評価、パラメータチューニング\n",
    "    - 分析結果"
   ]
  },
  {
   "cell_type": "markdown",
   "metadata": {
    "slideshow": {
     "slide_type": "slide"
    }
   },
   "source": [
    "## Pythonでデータ分析するためのツール\n",
    "\n",
    "### 環境\n",
    "- 分析結果を確認しながら進める場合は、**jupyter notebook**がおすすめ\n",
    "\n",
    "### Pythonパッケージ\n",
    "- データ分析・加工\n",
    "    - pandas (http://pandas.pydata.org/index.html)\n",
    "    - numpy (https://docs.scipy.org/doc/numpy/)\n",
    "- データのビジュアライズ\n",
    "    - seaborn (https://seaborn.pydata.org/index.html)\n",
    "    - matplotlib (https://matplotlib.org/)\n",
    "- 機械学習\n",
    "    - scikit-learn (http://scikit-learn.org/stable/index.html)"
   ]
  },
  {
   "cell_type": "markdown",
   "metadata": {
    "slideshow": {
     "slide_type": "subslide"
    }
   },
   "source": [
    "# Anaconda (https://www.anaconda.com/)\n",
    "- 全部入っている"
   ]
  },
  {
   "cell_type": "markdown",
   "metadata": {
    "slideshow": {
     "slide_type": "slide"
    }
   },
   "source": [
    "## モジュールをインポートする\n",
    "- scikit-learnは後で使用するときにインポートする"
   ]
  },
  {
   "cell_type": "code",
   "execution_count": 2,
   "metadata": {
    "collapsed": true,
    "slideshow": {
     "slide_type": "-"
    }
   },
   "outputs": [],
   "source": [
    "import pandas as pd\n",
    "import numpy as np\n",
    "import seaborn as sns\n",
    "import matplotlib.pyplot as plt\n",
    "%matplotlib inline\n",
    "\n",
    "#インラインでデータフレームを表示させる\n",
    "from IPython.core.display import display\n",
    "\n",
    "# warning表示を抑止する\n",
    "import warnings\n",
    "warnings.filterwarnings('ignore')\n",
    "\n",
    "# seabornのグラフの文字サイズを指定\n",
    "sns.set_context('poster')"
   ]
  },
  {
   "cell_type": "markdown",
   "metadata": {
    "slideshow": {
     "slide_type": "fragment"
    }
   },
   "source": [
    "- %matplotlib inline は、notebook上にグラフ表示するためのおまじない"
   ]
  },
  {
   "cell_type": "markdown",
   "metadata": {
    "slideshow": {
     "slide_type": "slide"
    }
   },
   "source": [
    "## Feature Engineering（特徴選択）\n",
    "\n",
    "機械学習でよい結果を得るためには、どういうアルゴリズムでモデル化するかよりも、  \n",
    "**<font color=\"red\">どういうデータを使ってモデル化するか</font>**のほうが重要\n",
    "\n",
    "- 感覚的には、データ分析タスクのうちの7割くらいは特徴選択にあたる\n",
    "- データをモデル化するにあたり、データの内容を調査する\n",
    "    - モデル化に使うデータ項目(特徴量)を選ぶ\n",
    "    - 必要に応じて加工処理を施す"
   ]
  },
  {
   "cell_type": "markdown",
   "metadata": {
    "slideshow": {
     "slide_type": "subslide"
    }
   },
   "source": [
    "## データの前処理：4C\n",
    "\n",
    "1. Correcting [修正・補正]\n",
    "    - データをレビューし、明らかな誤りデータを修正・補正する\n",
    "    - ex) 年齢＝800　→　80歳の誤りだろう\n",
    "2. Completing [補完]\n",
    "    - 欠損しているデータを妥当な値で補完する\n",
    "    - ex) 平均値で補完、中央値で補完、他の特徴量から推定\n",
    "3. Creating [作成]\n",
    "    - 既存の特徴量から新たな特徴量を作り出す\n",
    "    - ex) 名前から苗字を抽出する\n",
    "4. Convertig [変換]\n",
    "    - 文字データを数値データに変換\n",
    "    - ex) 性別（男女）→　男性:0, 女性:1"
   ]
  },
  {
   "cell_type": "code",
   "execution_count": 3,
   "metadata": {
    "scrolled": true,
    "slideshow": {
     "slide_type": "slide"
    }
   },
   "outputs": [
    {
     "data": {
      "text/html": [
       "<div>\n",
       "<style>\n",
       "    .dataframe thead tr:only-child th {\n",
       "        text-align: right;\n",
       "    }\n",
       "\n",
       "    .dataframe thead th {\n",
       "        text-align: left;\n",
       "    }\n",
       "\n",
       "    .dataframe tbody tr th {\n",
       "        vertical-align: top;\n",
       "    }\n",
       "</style>\n",
       "<table border=\"1\" class=\"dataframe\">\n",
       "  <thead>\n",
       "    <tr style=\"text-align: right;\">\n",
       "      <th></th>\n",
       "      <th>PassengerId</th>\n",
       "      <th>Survived</th>\n",
       "      <th>Pclass</th>\n",
       "      <th>Name</th>\n",
       "      <th>Sex</th>\n",
       "      <th>Age</th>\n",
       "      <th>SibSp</th>\n",
       "      <th>Parch</th>\n",
       "      <th>Ticket</th>\n",
       "      <th>Fare</th>\n",
       "      <th>Cabin</th>\n",
       "      <th>Embarked</th>\n",
       "    </tr>\n",
       "  </thead>\n",
       "  <tbody>\n",
       "    <tr>\n",
       "      <th>0</th>\n",
       "      <td>1</td>\n",
       "      <td>0</td>\n",
       "      <td>3</td>\n",
       "      <td>Braund, Mr. Owen Harris</td>\n",
       "      <td>male</td>\n",
       "      <td>22.0</td>\n",
       "      <td>1</td>\n",
       "      <td>0</td>\n",
       "      <td>A/5 21171</td>\n",
       "      <td>7.2500</td>\n",
       "      <td>NaN</td>\n",
       "      <td>S</td>\n",
       "    </tr>\n",
       "    <tr>\n",
       "      <th>1</th>\n",
       "      <td>2</td>\n",
       "      <td>1</td>\n",
       "      <td>1</td>\n",
       "      <td>Cumings, Mrs. John Bradley (Florence Briggs Th...</td>\n",
       "      <td>female</td>\n",
       "      <td>38.0</td>\n",
       "      <td>1</td>\n",
       "      <td>0</td>\n",
       "      <td>PC 17599</td>\n",
       "      <td>71.2833</td>\n",
       "      <td>C85</td>\n",
       "      <td>C</td>\n",
       "    </tr>\n",
       "    <tr>\n",
       "      <th>2</th>\n",
       "      <td>3</td>\n",
       "      <td>1</td>\n",
       "      <td>3</td>\n",
       "      <td>Heikkinen, Miss. Laina</td>\n",
       "      <td>female</td>\n",
       "      <td>26.0</td>\n",
       "      <td>0</td>\n",
       "      <td>0</td>\n",
       "      <td>STON/O2. 3101282</td>\n",
       "      <td>7.9250</td>\n",
       "      <td>NaN</td>\n",
       "      <td>S</td>\n",
       "    </tr>\n",
       "    <tr>\n",
       "      <th>3</th>\n",
       "      <td>4</td>\n",
       "      <td>1</td>\n",
       "      <td>1</td>\n",
       "      <td>Futrelle, Mrs. Jacques Heath (Lily May Peel)</td>\n",
       "      <td>female</td>\n",
       "      <td>35.0</td>\n",
       "      <td>1</td>\n",
       "      <td>0</td>\n",
       "      <td>113803</td>\n",
       "      <td>53.1000</td>\n",
       "      <td>C123</td>\n",
       "      <td>S</td>\n",
       "    </tr>\n",
       "    <tr>\n",
       "      <th>4</th>\n",
       "      <td>5</td>\n",
       "      <td>0</td>\n",
       "      <td>3</td>\n",
       "      <td>Allen, Mr. William Henry</td>\n",
       "      <td>male</td>\n",
       "      <td>35.0</td>\n",
       "      <td>0</td>\n",
       "      <td>0</td>\n",
       "      <td>373450</td>\n",
       "      <td>8.0500</td>\n",
       "      <td>NaN</td>\n",
       "      <td>S</td>\n",
       "    </tr>\n",
       "  </tbody>\n",
       "</table>\n",
       "</div>"
      ],
      "text/plain": [
       "   PassengerId  Survived  Pclass  \\\n",
       "0            1         0       3   \n",
       "1            2         1       1   \n",
       "2            3         1       3   \n",
       "3            4         1       1   \n",
       "4            5         0       3   \n",
       "\n",
       "                                                Name     Sex   Age  SibSp  \\\n",
       "0                            Braund, Mr. Owen Harris    male  22.0      1   \n",
       "1  Cumings, Mrs. John Bradley (Florence Briggs Th...  female  38.0      1   \n",
       "2                             Heikkinen, Miss. Laina  female  26.0      0   \n",
       "3       Futrelle, Mrs. Jacques Heath (Lily May Peel)  female  35.0      1   \n",
       "4                           Allen, Mr. William Henry    male  35.0      0   \n",
       "\n",
       "   Parch            Ticket     Fare Cabin Embarked  \n",
       "0      0         A/5 21171   7.2500   NaN        S  \n",
       "1      0          PC 17599  71.2833   C85        C  \n",
       "2      0  STON/O2. 3101282   7.9250   NaN        S  \n",
       "3      0            113803  53.1000  C123        S  \n",
       "4      0            373450   8.0500   NaN        S  "
      ]
     },
     "execution_count": 3,
     "metadata": {},
     "output_type": "execute_result"
    }
   ],
   "source": [
    "# トレーニングデータ読み込み、サンプル確認\n",
    "train_df = pd.read_csv('train.csv')\n",
    "train_df.head()"
   ]
  },
  {
   "cell_type": "markdown",
   "metadata": {
    "slideshow": {
     "slide_type": "fragment"
    }
   },
   "source": [
    "- データの参照や加工を容易に行うため、Pandas.DataFrame(Excelワークシートのイメージ)にデータを読み込む\n",
    "- 項目の意味（わかりにくいもの）\n",
    "    - Pclass : クラス（1st, 2nd, 3rd）\n",
    "    - SibSp : 兄弟姉妹の人数、または、配偶者の人数\n",
    "    - Parch : 親の人数、または、子供の人数\n",
    "    - Ticket : チケット番号\n",
    "    - Fare : 料金\n",
    "    - Cabin : 客室番号（アルファベット＋数字）\n",
    "    - Embarked : 乗船地（Southanpton, Cherbourg, Queenstown）"
   ]
  },
  {
   "cell_type": "code",
   "execution_count": 4,
   "metadata": {
    "slideshow": {
     "slide_type": "subslide"
    }
   },
   "outputs": [
    {
     "data": {
      "text/html": [
       "<div>\n",
       "<style>\n",
       "    .dataframe thead tr:only-child th {\n",
       "        text-align: right;\n",
       "    }\n",
       "\n",
       "    .dataframe thead th {\n",
       "        text-align: left;\n",
       "    }\n",
       "\n",
       "    .dataframe tbody tr th {\n",
       "        vertical-align: top;\n",
       "    }\n",
       "</style>\n",
       "<table border=\"1\" class=\"dataframe\">\n",
       "  <thead>\n",
       "    <tr style=\"text-align: right;\">\n",
       "      <th></th>\n",
       "      <th>PassengerId</th>\n",
       "      <th>Survived</th>\n",
       "      <th>Pclass</th>\n",
       "      <th>Name</th>\n",
       "      <th>Sex</th>\n",
       "      <th>Age</th>\n",
       "      <th>SibSp</th>\n",
       "      <th>Parch</th>\n",
       "      <th>Ticket</th>\n",
       "      <th>Fare</th>\n",
       "      <th>Cabin</th>\n",
       "      <th>Embarked</th>\n",
       "    </tr>\n",
       "  </thead>\n",
       "  <tbody>\n",
       "    <tr>\n",
       "      <th>count</th>\n",
       "      <td>891.000000</td>\n",
       "      <td>891.000000</td>\n",
       "      <td>891.000000</td>\n",
       "      <td>891</td>\n",
       "      <td>891</td>\n",
       "      <td>714.000000</td>\n",
       "      <td>891.000000</td>\n",
       "      <td>891.000000</td>\n",
       "      <td>891</td>\n",
       "      <td>891.000000</td>\n",
       "      <td>204</td>\n",
       "      <td>889</td>\n",
       "    </tr>\n",
       "    <tr>\n",
       "      <th>unique</th>\n",
       "      <td>NaN</td>\n",
       "      <td>NaN</td>\n",
       "      <td>NaN</td>\n",
       "      <td>891</td>\n",
       "      <td>2</td>\n",
       "      <td>NaN</td>\n",
       "      <td>NaN</td>\n",
       "      <td>NaN</td>\n",
       "      <td>681</td>\n",
       "      <td>NaN</td>\n",
       "      <td>147</td>\n",
       "      <td>3</td>\n",
       "    </tr>\n",
       "    <tr>\n",
       "      <th>top</th>\n",
       "      <td>NaN</td>\n",
       "      <td>NaN</td>\n",
       "      <td>NaN</td>\n",
       "      <td>Wick, Miss. Mary Natalie</td>\n",
       "      <td>male</td>\n",
       "      <td>NaN</td>\n",
       "      <td>NaN</td>\n",
       "      <td>NaN</td>\n",
       "      <td>CA. 2343</td>\n",
       "      <td>NaN</td>\n",
       "      <td>B96 B98</td>\n",
       "      <td>S</td>\n",
       "    </tr>\n",
       "    <tr>\n",
       "      <th>freq</th>\n",
       "      <td>NaN</td>\n",
       "      <td>NaN</td>\n",
       "      <td>NaN</td>\n",
       "      <td>1</td>\n",
       "      <td>577</td>\n",
       "      <td>NaN</td>\n",
       "      <td>NaN</td>\n",
       "      <td>NaN</td>\n",
       "      <td>7</td>\n",
       "      <td>NaN</td>\n",
       "      <td>4</td>\n",
       "      <td>644</td>\n",
       "    </tr>\n",
       "    <tr>\n",
       "      <th>mean</th>\n",
       "      <td>446.000000</td>\n",
       "      <td>0.383838</td>\n",
       "      <td>2.308642</td>\n",
       "      <td>NaN</td>\n",
       "      <td>NaN</td>\n",
       "      <td>29.699118</td>\n",
       "      <td>0.523008</td>\n",
       "      <td>0.381594</td>\n",
       "      <td>NaN</td>\n",
       "      <td>32.204208</td>\n",
       "      <td>NaN</td>\n",
       "      <td>NaN</td>\n",
       "    </tr>\n",
       "    <tr>\n",
       "      <th>std</th>\n",
       "      <td>257.353842</td>\n",
       "      <td>0.486592</td>\n",
       "      <td>0.836071</td>\n",
       "      <td>NaN</td>\n",
       "      <td>NaN</td>\n",
       "      <td>14.526497</td>\n",
       "      <td>1.102743</td>\n",
       "      <td>0.806057</td>\n",
       "      <td>NaN</td>\n",
       "      <td>49.693429</td>\n",
       "      <td>NaN</td>\n",
       "      <td>NaN</td>\n",
       "    </tr>\n",
       "    <tr>\n",
       "      <th>min</th>\n",
       "      <td>1.000000</td>\n",
       "      <td>0.000000</td>\n",
       "      <td>1.000000</td>\n",
       "      <td>NaN</td>\n",
       "      <td>NaN</td>\n",
       "      <td>0.420000</td>\n",
       "      <td>0.000000</td>\n",
       "      <td>0.000000</td>\n",
       "      <td>NaN</td>\n",
       "      <td>0.000000</td>\n",
       "      <td>NaN</td>\n",
       "      <td>NaN</td>\n",
       "    </tr>\n",
       "    <tr>\n",
       "      <th>25%</th>\n",
       "      <td>223.500000</td>\n",
       "      <td>0.000000</td>\n",
       "      <td>2.000000</td>\n",
       "      <td>NaN</td>\n",
       "      <td>NaN</td>\n",
       "      <td>20.125000</td>\n",
       "      <td>0.000000</td>\n",
       "      <td>0.000000</td>\n",
       "      <td>NaN</td>\n",
       "      <td>7.910400</td>\n",
       "      <td>NaN</td>\n",
       "      <td>NaN</td>\n",
       "    </tr>\n",
       "    <tr>\n",
       "      <th>50%</th>\n",
       "      <td>446.000000</td>\n",
       "      <td>0.000000</td>\n",
       "      <td>3.000000</td>\n",
       "      <td>NaN</td>\n",
       "      <td>NaN</td>\n",
       "      <td>28.000000</td>\n",
       "      <td>0.000000</td>\n",
       "      <td>0.000000</td>\n",
       "      <td>NaN</td>\n",
       "      <td>14.454200</td>\n",
       "      <td>NaN</td>\n",
       "      <td>NaN</td>\n",
       "    </tr>\n",
       "    <tr>\n",
       "      <th>75%</th>\n",
       "      <td>668.500000</td>\n",
       "      <td>1.000000</td>\n",
       "      <td>3.000000</td>\n",
       "      <td>NaN</td>\n",
       "      <td>NaN</td>\n",
       "      <td>38.000000</td>\n",
       "      <td>1.000000</td>\n",
       "      <td>0.000000</td>\n",
       "      <td>NaN</td>\n",
       "      <td>31.000000</td>\n",
       "      <td>NaN</td>\n",
       "      <td>NaN</td>\n",
       "    </tr>\n",
       "    <tr>\n",
       "      <th>max</th>\n",
       "      <td>891.000000</td>\n",
       "      <td>1.000000</td>\n",
       "      <td>3.000000</td>\n",
       "      <td>NaN</td>\n",
       "      <td>NaN</td>\n",
       "      <td>80.000000</td>\n",
       "      <td>8.000000</td>\n",
       "      <td>6.000000</td>\n",
       "      <td>NaN</td>\n",
       "      <td>512.329200</td>\n",
       "      <td>NaN</td>\n",
       "      <td>NaN</td>\n",
       "    </tr>\n",
       "  </tbody>\n",
       "</table>\n",
       "</div>"
      ],
      "text/plain": [
       "        PassengerId    Survived      Pclass                      Name   Sex  \\\n",
       "count    891.000000  891.000000  891.000000                       891   891   \n",
       "unique          NaN         NaN         NaN                       891     2   \n",
       "top             NaN         NaN         NaN  Wick, Miss. Mary Natalie  male   \n",
       "freq            NaN         NaN         NaN                         1   577   \n",
       "mean     446.000000    0.383838    2.308642                       NaN   NaN   \n",
       "std      257.353842    0.486592    0.836071                       NaN   NaN   \n",
       "min        1.000000    0.000000    1.000000                       NaN   NaN   \n",
       "25%      223.500000    0.000000    2.000000                       NaN   NaN   \n",
       "50%      446.000000    0.000000    3.000000                       NaN   NaN   \n",
       "75%      668.500000    1.000000    3.000000                       NaN   NaN   \n",
       "max      891.000000    1.000000    3.000000                       NaN   NaN   \n",
       "\n",
       "               Age       SibSp       Parch    Ticket        Fare    Cabin  \\\n",
       "count   714.000000  891.000000  891.000000       891  891.000000      204   \n",
       "unique         NaN         NaN         NaN       681         NaN      147   \n",
       "top            NaN         NaN         NaN  CA. 2343         NaN  B96 B98   \n",
       "freq           NaN         NaN         NaN         7         NaN        4   \n",
       "mean     29.699118    0.523008    0.381594       NaN   32.204208      NaN   \n",
       "std      14.526497    1.102743    0.806057       NaN   49.693429      NaN   \n",
       "min       0.420000    0.000000    0.000000       NaN    0.000000      NaN   \n",
       "25%      20.125000    0.000000    0.000000       NaN    7.910400      NaN   \n",
       "50%      28.000000    0.000000    0.000000       NaN   14.454200      NaN   \n",
       "75%      38.000000    1.000000    0.000000       NaN   31.000000      NaN   \n",
       "max      80.000000    8.000000    6.000000       NaN  512.329200      NaN   \n",
       "\n",
       "       Embarked  \n",
       "count       889  \n",
       "unique        3  \n",
       "top           S  \n",
       "freq        644  \n",
       "mean        NaN  \n",
       "std         NaN  \n",
       "min         NaN  \n",
       "25%         NaN  \n",
       "50%         NaN  \n",
       "75%         NaN  \n",
       "max         NaN  "
      ]
     },
     "execution_count": 4,
     "metadata": {},
     "output_type": "execute_result"
    }
   ],
   "source": [
    "# トレーニングデータの件数、欠損、基本統計情報の確認\n",
    "train_df.describe(include='all')"
   ]
  },
  {
   "cell_type": "markdown",
   "metadata": {
    "slideshow": {
     "slide_type": "fragment"
    }
   },
   "source": [
    "- 特に、欠損のあるデータ（Age, Cabin, Embarked）をどう扱うか？"
   ]
  },
  {
   "cell_type": "code",
   "execution_count": 5,
   "metadata": {
    "slideshow": {
     "slide_type": "subslide"
    }
   },
   "outputs": [
    {
     "data": {
      "text/html": [
       "<div>\n",
       "<style>\n",
       "    .dataframe thead tr:only-child th {\n",
       "        text-align: right;\n",
       "    }\n",
       "\n",
       "    .dataframe thead th {\n",
       "        text-align: left;\n",
       "    }\n",
       "\n",
       "    .dataframe tbody tr th {\n",
       "        vertical-align: top;\n",
       "    }\n",
       "</style>\n",
       "<table border=\"1\" class=\"dataframe\">\n",
       "  <thead>\n",
       "    <tr style=\"text-align: right;\">\n",
       "      <th></th>\n",
       "      <th>PassengerId</th>\n",
       "      <th>Pclass</th>\n",
       "      <th>Name</th>\n",
       "      <th>Sex</th>\n",
       "      <th>Age</th>\n",
       "      <th>SibSp</th>\n",
       "      <th>Parch</th>\n",
       "      <th>Ticket</th>\n",
       "      <th>Fare</th>\n",
       "      <th>Cabin</th>\n",
       "      <th>Embarked</th>\n",
       "    </tr>\n",
       "  </thead>\n",
       "  <tbody>\n",
       "    <tr>\n",
       "      <th>0</th>\n",
       "      <td>892</td>\n",
       "      <td>3</td>\n",
       "      <td>Kelly, Mr. James</td>\n",
       "      <td>male</td>\n",
       "      <td>34.5</td>\n",
       "      <td>0</td>\n",
       "      <td>0</td>\n",
       "      <td>330911</td>\n",
       "      <td>7.8292</td>\n",
       "      <td>NaN</td>\n",
       "      <td>Q</td>\n",
       "    </tr>\n",
       "    <tr>\n",
       "      <th>1</th>\n",
       "      <td>893</td>\n",
       "      <td>3</td>\n",
       "      <td>Wilkes, Mrs. James (Ellen Needs)</td>\n",
       "      <td>female</td>\n",
       "      <td>47.0</td>\n",
       "      <td>1</td>\n",
       "      <td>0</td>\n",
       "      <td>363272</td>\n",
       "      <td>7.0000</td>\n",
       "      <td>NaN</td>\n",
       "      <td>S</td>\n",
       "    </tr>\n",
       "    <tr>\n",
       "      <th>2</th>\n",
       "      <td>894</td>\n",
       "      <td>2</td>\n",
       "      <td>Myles, Mr. Thomas Francis</td>\n",
       "      <td>male</td>\n",
       "      <td>62.0</td>\n",
       "      <td>0</td>\n",
       "      <td>0</td>\n",
       "      <td>240276</td>\n",
       "      <td>9.6875</td>\n",
       "      <td>NaN</td>\n",
       "      <td>Q</td>\n",
       "    </tr>\n",
       "    <tr>\n",
       "      <th>3</th>\n",
       "      <td>895</td>\n",
       "      <td>3</td>\n",
       "      <td>Wirz, Mr. Albert</td>\n",
       "      <td>male</td>\n",
       "      <td>27.0</td>\n",
       "      <td>0</td>\n",
       "      <td>0</td>\n",
       "      <td>315154</td>\n",
       "      <td>8.6625</td>\n",
       "      <td>NaN</td>\n",
       "      <td>S</td>\n",
       "    </tr>\n",
       "    <tr>\n",
       "      <th>4</th>\n",
       "      <td>896</td>\n",
       "      <td>3</td>\n",
       "      <td>Hirvonen, Mrs. Alexander (Helga E Lindqvist)</td>\n",
       "      <td>female</td>\n",
       "      <td>22.0</td>\n",
       "      <td>1</td>\n",
       "      <td>1</td>\n",
       "      <td>3101298</td>\n",
       "      <td>12.2875</td>\n",
       "      <td>NaN</td>\n",
       "      <td>S</td>\n",
       "    </tr>\n",
       "  </tbody>\n",
       "</table>\n",
       "</div>"
      ],
      "text/plain": [
       "   PassengerId  Pclass                                          Name     Sex  \\\n",
       "0          892       3                              Kelly, Mr. James    male   \n",
       "1          893       3              Wilkes, Mrs. James (Ellen Needs)  female   \n",
       "2          894       2                     Myles, Mr. Thomas Francis    male   \n",
       "3          895       3                              Wirz, Mr. Albert    male   \n",
       "4          896       3  Hirvonen, Mrs. Alexander (Helga E Lindqvist)  female   \n",
       "\n",
       "    Age  SibSp  Parch   Ticket     Fare Cabin Embarked  \n",
       "0  34.5      0      0   330911   7.8292   NaN        Q  \n",
       "1  47.0      1      0   363272   7.0000   NaN        S  \n",
       "2  62.0      0      0   240276   9.6875   NaN        Q  \n",
       "3  27.0      0      0   315154   8.6625   NaN        S  \n",
       "4  22.0      1      1  3101298  12.2875   NaN        S  "
      ]
     },
     "execution_count": 5,
     "metadata": {},
     "output_type": "execute_result"
    }
   ],
   "source": [
    "# テストデータ読み込み、サンプル確認\n",
    "test_df = pd.read_csv('test.csv')\n",
    "test_df.head()"
   ]
  },
  {
   "cell_type": "markdown",
   "metadata": {
    "slideshow": {
     "slide_type": "fragment"
    }
   },
   "source": [
    "- テストデータには**Survived**がない\n",
    "    - これを予測するのが目的"
   ]
  },
  {
   "cell_type": "code",
   "execution_count": 6,
   "metadata": {
    "slideshow": {
     "slide_type": "subslide"
    }
   },
   "outputs": [
    {
     "data": {
      "text/html": [
       "<div>\n",
       "<style>\n",
       "    .dataframe thead tr:only-child th {\n",
       "        text-align: right;\n",
       "    }\n",
       "\n",
       "    .dataframe thead th {\n",
       "        text-align: left;\n",
       "    }\n",
       "\n",
       "    .dataframe tbody tr th {\n",
       "        vertical-align: top;\n",
       "    }\n",
       "</style>\n",
       "<table border=\"1\" class=\"dataframe\">\n",
       "  <thead>\n",
       "    <tr style=\"text-align: right;\">\n",
       "      <th></th>\n",
       "      <th>PassengerId</th>\n",
       "      <th>Pclass</th>\n",
       "      <th>Name</th>\n",
       "      <th>Sex</th>\n",
       "      <th>Age</th>\n",
       "      <th>SibSp</th>\n",
       "      <th>Parch</th>\n",
       "      <th>Ticket</th>\n",
       "      <th>Fare</th>\n",
       "      <th>Cabin</th>\n",
       "      <th>Embarked</th>\n",
       "    </tr>\n",
       "  </thead>\n",
       "  <tbody>\n",
       "    <tr>\n",
       "      <th>count</th>\n",
       "      <td>418.000000</td>\n",
       "      <td>418.000000</td>\n",
       "      <td>418</td>\n",
       "      <td>418</td>\n",
       "      <td>332.000000</td>\n",
       "      <td>418.000000</td>\n",
       "      <td>418.000000</td>\n",
       "      <td>418</td>\n",
       "      <td>417.000000</td>\n",
       "      <td>91</td>\n",
       "      <td>418</td>\n",
       "    </tr>\n",
       "    <tr>\n",
       "      <th>unique</th>\n",
       "      <td>NaN</td>\n",
       "      <td>NaN</td>\n",
       "      <td>418</td>\n",
       "      <td>2</td>\n",
       "      <td>NaN</td>\n",
       "      <td>NaN</td>\n",
       "      <td>NaN</td>\n",
       "      <td>363</td>\n",
       "      <td>NaN</td>\n",
       "      <td>76</td>\n",
       "      <td>3</td>\n",
       "    </tr>\n",
       "    <tr>\n",
       "      <th>top</th>\n",
       "      <td>NaN</td>\n",
       "      <td>NaN</td>\n",
       "      <td>Samaan, Mr. Hanna</td>\n",
       "      <td>male</td>\n",
       "      <td>NaN</td>\n",
       "      <td>NaN</td>\n",
       "      <td>NaN</td>\n",
       "      <td>PC 17608</td>\n",
       "      <td>NaN</td>\n",
       "      <td>B57 B59 B63 B66</td>\n",
       "      <td>S</td>\n",
       "    </tr>\n",
       "    <tr>\n",
       "      <th>freq</th>\n",
       "      <td>NaN</td>\n",
       "      <td>NaN</td>\n",
       "      <td>1</td>\n",
       "      <td>266</td>\n",
       "      <td>NaN</td>\n",
       "      <td>NaN</td>\n",
       "      <td>NaN</td>\n",
       "      <td>5</td>\n",
       "      <td>NaN</td>\n",
       "      <td>3</td>\n",
       "      <td>270</td>\n",
       "    </tr>\n",
       "    <tr>\n",
       "      <th>mean</th>\n",
       "      <td>1100.500000</td>\n",
       "      <td>2.265550</td>\n",
       "      <td>NaN</td>\n",
       "      <td>NaN</td>\n",
       "      <td>30.272590</td>\n",
       "      <td>0.447368</td>\n",
       "      <td>0.392344</td>\n",
       "      <td>NaN</td>\n",
       "      <td>35.627188</td>\n",
       "      <td>NaN</td>\n",
       "      <td>NaN</td>\n",
       "    </tr>\n",
       "    <tr>\n",
       "      <th>std</th>\n",
       "      <td>120.810458</td>\n",
       "      <td>0.841838</td>\n",
       "      <td>NaN</td>\n",
       "      <td>NaN</td>\n",
       "      <td>14.181209</td>\n",
       "      <td>0.896760</td>\n",
       "      <td>0.981429</td>\n",
       "      <td>NaN</td>\n",
       "      <td>55.907576</td>\n",
       "      <td>NaN</td>\n",
       "      <td>NaN</td>\n",
       "    </tr>\n",
       "    <tr>\n",
       "      <th>min</th>\n",
       "      <td>892.000000</td>\n",
       "      <td>1.000000</td>\n",
       "      <td>NaN</td>\n",
       "      <td>NaN</td>\n",
       "      <td>0.170000</td>\n",
       "      <td>0.000000</td>\n",
       "      <td>0.000000</td>\n",
       "      <td>NaN</td>\n",
       "      <td>0.000000</td>\n",
       "      <td>NaN</td>\n",
       "      <td>NaN</td>\n",
       "    </tr>\n",
       "    <tr>\n",
       "      <th>25%</th>\n",
       "      <td>996.250000</td>\n",
       "      <td>1.000000</td>\n",
       "      <td>NaN</td>\n",
       "      <td>NaN</td>\n",
       "      <td>21.000000</td>\n",
       "      <td>0.000000</td>\n",
       "      <td>0.000000</td>\n",
       "      <td>NaN</td>\n",
       "      <td>7.895800</td>\n",
       "      <td>NaN</td>\n",
       "      <td>NaN</td>\n",
       "    </tr>\n",
       "    <tr>\n",
       "      <th>50%</th>\n",
       "      <td>1100.500000</td>\n",
       "      <td>3.000000</td>\n",
       "      <td>NaN</td>\n",
       "      <td>NaN</td>\n",
       "      <td>27.000000</td>\n",
       "      <td>0.000000</td>\n",
       "      <td>0.000000</td>\n",
       "      <td>NaN</td>\n",
       "      <td>14.454200</td>\n",
       "      <td>NaN</td>\n",
       "      <td>NaN</td>\n",
       "    </tr>\n",
       "    <tr>\n",
       "      <th>75%</th>\n",
       "      <td>1204.750000</td>\n",
       "      <td>3.000000</td>\n",
       "      <td>NaN</td>\n",
       "      <td>NaN</td>\n",
       "      <td>39.000000</td>\n",
       "      <td>1.000000</td>\n",
       "      <td>0.000000</td>\n",
       "      <td>NaN</td>\n",
       "      <td>31.500000</td>\n",
       "      <td>NaN</td>\n",
       "      <td>NaN</td>\n",
       "    </tr>\n",
       "    <tr>\n",
       "      <th>max</th>\n",
       "      <td>1309.000000</td>\n",
       "      <td>3.000000</td>\n",
       "      <td>NaN</td>\n",
       "      <td>NaN</td>\n",
       "      <td>76.000000</td>\n",
       "      <td>8.000000</td>\n",
       "      <td>9.000000</td>\n",
       "      <td>NaN</td>\n",
       "      <td>512.329200</td>\n",
       "      <td>NaN</td>\n",
       "      <td>NaN</td>\n",
       "    </tr>\n",
       "  </tbody>\n",
       "</table>\n",
       "</div>"
      ],
      "text/plain": [
       "        PassengerId      Pclass               Name   Sex         Age  \\\n",
       "count    418.000000  418.000000                418   418  332.000000   \n",
       "unique          NaN         NaN                418     2         NaN   \n",
       "top             NaN         NaN  Samaan, Mr. Hanna  male         NaN   \n",
       "freq            NaN         NaN                  1   266         NaN   \n",
       "mean    1100.500000    2.265550                NaN   NaN   30.272590   \n",
       "std      120.810458    0.841838                NaN   NaN   14.181209   \n",
       "min      892.000000    1.000000                NaN   NaN    0.170000   \n",
       "25%      996.250000    1.000000                NaN   NaN   21.000000   \n",
       "50%     1100.500000    3.000000                NaN   NaN   27.000000   \n",
       "75%     1204.750000    3.000000                NaN   NaN   39.000000   \n",
       "max     1309.000000    3.000000                NaN   NaN   76.000000   \n",
       "\n",
       "             SibSp       Parch    Ticket        Fare            Cabin Embarked  \n",
       "count   418.000000  418.000000       418  417.000000               91      418  \n",
       "unique         NaN         NaN       363         NaN               76        3  \n",
       "top            NaN         NaN  PC 17608         NaN  B57 B59 B63 B66        S  \n",
       "freq           NaN         NaN         5         NaN                3      270  \n",
       "mean      0.447368    0.392344       NaN   35.627188              NaN      NaN  \n",
       "std       0.896760    0.981429       NaN   55.907576              NaN      NaN  \n",
       "min       0.000000    0.000000       NaN    0.000000              NaN      NaN  \n",
       "25%       0.000000    0.000000       NaN    7.895800              NaN      NaN  \n",
       "50%       0.000000    0.000000       NaN   14.454200              NaN      NaN  \n",
       "75%       1.000000    0.000000       NaN   31.500000              NaN      NaN  \n",
       "max       8.000000    9.000000       NaN  512.329200              NaN      NaN  "
      ]
     },
     "execution_count": 6,
     "metadata": {},
     "output_type": "execute_result"
    }
   ],
   "source": [
    "# テストデータの件数、欠損、基本統計情報の確認\n",
    "test_df.describe(include='all')"
   ]
  },
  {
   "cell_type": "markdown",
   "metadata": {
    "slideshow": {
     "slide_type": "fragment"
    }
   },
   "source": [
    "- Age, Fare, Cabin に欠損がある\n",
    "- 各データ項目の平均値などの基本統計情報はトレーニングデータと大体同じ"
   ]
  },
  {
   "cell_type": "code",
   "execution_count": 7,
   "metadata": {
    "slideshow": {
     "slide_type": "subslide"
    }
   },
   "outputs": [
    {
     "data": {
      "text/html": [
       "<div>\n",
       "<style>\n",
       "    .dataframe thead tr:only-child th {\n",
       "        text-align: right;\n",
       "    }\n",
       "\n",
       "    .dataframe thead th {\n",
       "        text-align: left;\n",
       "    }\n",
       "\n",
       "    .dataframe tbody tr th {\n",
       "        vertical-align: top;\n",
       "    }\n",
       "</style>\n",
       "<table border=\"1\" class=\"dataframe\">\n",
       "  <thead>\n",
       "    <tr style=\"text-align: right;\">\n",
       "      <th></th>\n",
       "      <th>Age</th>\n",
       "      <th>Cabin</th>\n",
       "      <th>Embarked</th>\n",
       "      <th>Fare</th>\n",
       "      <th>Name</th>\n",
       "      <th>Parch</th>\n",
       "      <th>PassengerId</th>\n",
       "      <th>Pclass</th>\n",
       "      <th>Sex</th>\n",
       "      <th>SibSp</th>\n",
       "      <th>Survived</th>\n",
       "      <th>Ticket</th>\n",
       "    </tr>\n",
       "  </thead>\n",
       "  <tbody>\n",
       "    <tr>\n",
       "      <th>888</th>\n",
       "      <td>NaN</td>\n",
       "      <td>NaN</td>\n",
       "      <td>S</td>\n",
       "      <td>23.4500</td>\n",
       "      <td>Johnston, Miss. Catherine Helen \"Carrie\"</td>\n",
       "      <td>2</td>\n",
       "      <td>889</td>\n",
       "      <td>3</td>\n",
       "      <td>female</td>\n",
       "      <td>1</td>\n",
       "      <td>0.0</td>\n",
       "      <td>W./C. 6607</td>\n",
       "    </tr>\n",
       "    <tr>\n",
       "      <th>889</th>\n",
       "      <td>26.0</td>\n",
       "      <td>C148</td>\n",
       "      <td>C</td>\n",
       "      <td>30.0000</td>\n",
       "      <td>Behr, Mr. Karl Howell</td>\n",
       "      <td>0</td>\n",
       "      <td>890</td>\n",
       "      <td>1</td>\n",
       "      <td>male</td>\n",
       "      <td>0</td>\n",
       "      <td>1.0</td>\n",
       "      <td>111369</td>\n",
       "    </tr>\n",
       "    <tr>\n",
       "      <th>890</th>\n",
       "      <td>32.0</td>\n",
       "      <td>NaN</td>\n",
       "      <td>Q</td>\n",
       "      <td>7.7500</td>\n",
       "      <td>Dooley, Mr. Patrick</td>\n",
       "      <td>0</td>\n",
       "      <td>891</td>\n",
       "      <td>3</td>\n",
       "      <td>male</td>\n",
       "      <td>0</td>\n",
       "      <td>0.0</td>\n",
       "      <td>370376</td>\n",
       "    </tr>\n",
       "    <tr>\n",
       "      <th>891</th>\n",
       "      <td>34.5</td>\n",
       "      <td>NaN</td>\n",
       "      <td>Q</td>\n",
       "      <td>7.8292</td>\n",
       "      <td>Kelly, Mr. James</td>\n",
       "      <td>0</td>\n",
       "      <td>892</td>\n",
       "      <td>3</td>\n",
       "      <td>male</td>\n",
       "      <td>0</td>\n",
       "      <td>NaN</td>\n",
       "      <td>330911</td>\n",
       "    </tr>\n",
       "    <tr>\n",
       "      <th>892</th>\n",
       "      <td>47.0</td>\n",
       "      <td>NaN</td>\n",
       "      <td>S</td>\n",
       "      <td>7.0000</td>\n",
       "      <td>Wilkes, Mrs. James (Ellen Needs)</td>\n",
       "      <td>0</td>\n",
       "      <td>893</td>\n",
       "      <td>3</td>\n",
       "      <td>female</td>\n",
       "      <td>1</td>\n",
       "      <td>NaN</td>\n",
       "      <td>363272</td>\n",
       "    </tr>\n",
       "    <tr>\n",
       "      <th>893</th>\n",
       "      <td>62.0</td>\n",
       "      <td>NaN</td>\n",
       "      <td>Q</td>\n",
       "      <td>9.6875</td>\n",
       "      <td>Myles, Mr. Thomas Francis</td>\n",
       "      <td>0</td>\n",
       "      <td>894</td>\n",
       "      <td>2</td>\n",
       "      <td>male</td>\n",
       "      <td>0</td>\n",
       "      <td>NaN</td>\n",
       "      <td>240276</td>\n",
       "    </tr>\n",
       "  </tbody>\n",
       "</table>\n",
       "</div>"
      ],
      "text/plain": [
       "      Age Cabin Embarked     Fare                                      Name  \\\n",
       "888   NaN   NaN        S  23.4500  Johnston, Miss. Catherine Helen \"Carrie\"   \n",
       "889  26.0  C148        C  30.0000                     Behr, Mr. Karl Howell   \n",
       "890  32.0   NaN        Q   7.7500                       Dooley, Mr. Patrick   \n",
       "891  34.5   NaN        Q   7.8292                          Kelly, Mr. James   \n",
       "892  47.0   NaN        S   7.0000          Wilkes, Mrs. James (Ellen Needs)   \n",
       "893  62.0   NaN        Q   9.6875                 Myles, Mr. Thomas Francis   \n",
       "\n",
       "     Parch  PassengerId  Pclass     Sex  SibSp  Survived      Ticket  \n",
       "888      2          889       3  female      1       0.0  W./C. 6607  \n",
       "889      0          890       1    male      0       1.0      111369  \n",
       "890      0          891       3    male      0       0.0      370376  \n",
       "891      0          892       3    male      0       NaN      330911  \n",
       "892      0          893       3  female      1       NaN      363272  \n",
       "893      0          894       2    male      0       NaN      240276  "
      ]
     },
     "execution_count": 7,
     "metadata": {},
     "output_type": "execute_result"
    }
   ],
   "source": [
    "# トレーニングとテストのデータを結合する\n",
    "# 特徴量の加工操作には、一括で扱うのが楽\n",
    "combined = pd.concat([train_df, test_df]).reset_index(drop=True)\n",
    "original_features = combined.columns.tolist()   # もともとの項目をとっておく\n",
    "combined[888:894]"
   ]
  },
  {
   "cell_type": "markdown",
   "metadata": {
    "slideshow": {
     "slide_type": "slide"
    }
   },
   "source": [
    "# それぞれの項目（特徴量）を個別に見ていきます"
   ]
  },
  {
   "cell_type": "markdown",
   "metadata": {
    "slideshow": {
     "slide_type": "slide"
    }
   },
   "source": [
    "## Pclass\n",
    "- 欠損なし\n",
    "- 各クラスの件数と生存率との関連を可視化してみる\n",
    "    - seabornを使用すると、きれいなグラフが簡単に作成できる"
   ]
  },
  {
   "cell_type": "code",
   "execution_count": 8,
   "metadata": {
    "slideshow": {
     "slide_type": "fragment"
    }
   },
   "outputs": [
    {
     "data": {
      "text/html": [
       "<div>\n",
       "<style>\n",
       "    .dataframe thead tr:only-child th {\n",
       "        text-align: right;\n",
       "    }\n",
       "\n",
       "    .dataframe thead th {\n",
       "        text-align: left;\n",
       "    }\n",
       "\n",
       "    .dataframe tbody tr th {\n",
       "        vertical-align: top;\n",
       "    }\n",
       "</style>\n",
       "<table border=\"1\" class=\"dataframe\">\n",
       "  <thead>\n",
       "    <tr style=\"text-align: right;\">\n",
       "      <th></th>\n",
       "      <th>Pclass</th>\n",
       "    </tr>\n",
       "  </thead>\n",
       "  <tbody>\n",
       "    <tr>\n",
       "      <th>3</th>\n",
       "      <td>491</td>\n",
       "    </tr>\n",
       "    <tr>\n",
       "      <th>1</th>\n",
       "      <td>216</td>\n",
       "    </tr>\n",
       "    <tr>\n",
       "      <th>2</th>\n",
       "      <td>184</td>\n",
       "    </tr>\n",
       "  </tbody>\n",
       "</table>\n",
       "</div>"
      ],
      "text/plain": [
       "   Pclass\n",
       "3     491\n",
       "1     216\n",
       "2     184"
      ]
     },
     "execution_count": 8,
     "metadata": {},
     "output_type": "execute_result"
    }
   ],
   "source": [
    "# 件数確認\n",
    "# プレゼンの見た目をそろえるためにDataFrameにしているが、\n",
    "# train_df.Pclass.value_counts() だけでよい\n",
    "pd.DataFrame(train_df.Pclass.value_counts())"
   ]
  },
  {
   "cell_type": "code",
   "execution_count": 9,
   "metadata": {
    "slideshow": {
     "slide_type": "subslide"
    }
   },
   "outputs": [
    {
     "data": {
      "text/plain": [
       "<seaborn.axisgrid.FacetGrid at 0x7efc38be9940>"
      ]
     },
     "execution_count": 9,
     "metadata": {},
     "output_type": "execute_result"
    },
    {
     "data": {
      "image/png": "[encoded data removed]",
      "text/plain": [
       "<matplotlib.figure.Figure at 0x7efc38be9358>"
      ]
     },
     "metadata": {},
     "output_type": "display_data"
    }
   ],
   "source": [
    "# Pclassごとの生存率\n",
    "sns.factorplot(data=combined[0:891], x='Pclass', y='Survived', kind='bar', size=5)"
   ]
  },
  {
   "cell_type": "markdown",
   "metadata": {
    "slideshow": {
     "slide_type": "fragment"
    }
   },
   "source": [
    "- クラスによって生存率に差がみられる\n",
    "    - 1st > 2nd > 3rd"
   ]
  },
  {
   "cell_type": "markdown",
   "metadata": {
    "slideshow": {
     "slide_type": "subslide"
    }
   },
   "source": [
    "### Pclassの値は何なのか？\n",
    "- 1～3の値をとる数値（量的なデータ）\n",
    "- クラスのカテゴリ（質的なデータ）"
   ]
  },
  {
   "cell_type": "markdown",
   "metadata": {
    "slideshow": {
     "slide_type": "fragment"
    }
   },
   "source": [
    "### どちらの解釈でもよい\n",
    "- 分析手法(機械学習アルゴリズム)や分析結果を見て決めてもよい（と思う）\n",
    "\n",
    "ここでは、質的データとして扱うので、**<font color=\"red\">ダミー変数</font>**に変換する"
   ]
  },
  {
   "cell_type": "code",
   "execution_count": 10,
   "metadata": {
    "slideshow": {
     "slide_type": "subslide"
    }
   },
   "outputs": [
    {
     "data": {
      "text/html": [
       "<div>\n",
       "<style>\n",
       "    .dataframe thead tr:only-child th {\n",
       "        text-align: right;\n",
       "    }\n",
       "\n",
       "    .dataframe thead th {\n",
       "        text-align: left;\n",
       "    }\n",
       "\n",
       "    .dataframe tbody tr th {\n",
       "        vertical-align: top;\n",
       "    }\n",
       "</style>\n",
       "<table border=\"1\" class=\"dataframe\">\n",
       "  <thead>\n",
       "    <tr style=\"text-align: right;\">\n",
       "      <th></th>\n",
       "      <th>Pclass</th>\n",
       "      <th>Pclass_1</th>\n",
       "      <th>Pclass_2</th>\n",
       "      <th>Pclass_3</th>\n",
       "    </tr>\n",
       "  </thead>\n",
       "  <tbody>\n",
       "    <tr>\n",
       "      <th>0</th>\n",
       "      <td>3</td>\n",
       "      <td>0</td>\n",
       "      <td>0</td>\n",
       "      <td>1</td>\n",
       "    </tr>\n",
       "    <tr>\n",
       "      <th>1</th>\n",
       "      <td>1</td>\n",
       "      <td>1</td>\n",
       "      <td>0</td>\n",
       "      <td>0</td>\n",
       "    </tr>\n",
       "    <tr>\n",
       "      <th>2</th>\n",
       "      <td>3</td>\n",
       "      <td>0</td>\n",
       "      <td>0</td>\n",
       "      <td>1</td>\n",
       "    </tr>\n",
       "    <tr>\n",
       "      <th>3</th>\n",
       "      <td>1</td>\n",
       "      <td>1</td>\n",
       "      <td>0</td>\n",
       "      <td>0</td>\n",
       "    </tr>\n",
       "    <tr>\n",
       "      <th>4</th>\n",
       "      <td>3</td>\n",
       "      <td>0</td>\n",
       "      <td>0</td>\n",
       "      <td>1</td>\n",
       "    </tr>\n",
       "  </tbody>\n",
       "</table>\n",
       "</div>"
      ],
      "text/plain": [
       "   Pclass  Pclass_1  Pclass_2  Pclass_3\n",
       "0       3         0         0         1\n",
       "1       1         1         0         0\n",
       "2       3         0         0         1\n",
       "3       1         1         0         0\n",
       "4       3         0         0         1"
      ]
     },
     "execution_count": 10,
     "metadata": {},
     "output_type": "execute_result"
    }
   ],
   "source": [
    "# Pclassをダミー変数に展開\n",
    "combined = pd.concat([combined, pd.get_dummies(combined['Pclass'], prefix='Pclass')], axis=1)\n",
    "\n",
    "# 特徴リストに追加しておく（後で使うため）\n",
    "features  = ['Pclass_1', 'Pclass_2', 'Pclass_3']\n",
    " \n",
    "combined[['Pclass', 'Pclass_1', 'Pclass_2', 'Pclass_3']].head()"
   ]
  },
  {
   "cell_type": "markdown",
   "metadata": {
    "slideshow": {
     "slide_type": "slide"
    }
   },
   "source": [
    "## Parch\n",
    "- 欠損なし\n",
    "- 生存率との関係を見てみる"
   ]
  },
  {
   "cell_type": "code",
   "execution_count": 11,
   "metadata": {
    "slideshow": {
     "slide_type": "-"
    }
   },
   "outputs": [
    {
     "data": {
      "text/html": [
       "<div>\n",
       "<style>\n",
       "    .dataframe thead tr:only-child th {\n",
       "        text-align: right;\n",
       "    }\n",
       "\n",
       "    .dataframe thead th {\n",
       "        text-align: left;\n",
       "    }\n",
       "\n",
       "    .dataframe tbody tr th {\n",
       "        vertical-align: top;\n",
       "    }\n",
       "</style>\n",
       "<table border=\"1\" class=\"dataframe\">\n",
       "  <thead>\n",
       "    <tr style=\"text-align: right;\">\n",
       "      <th></th>\n",
       "      <th>Parch</th>\n",
       "    </tr>\n",
       "  </thead>\n",
       "  <tbody>\n",
       "    <tr>\n",
       "      <th>0</th>\n",
       "      <td>1002</td>\n",
       "    </tr>\n",
       "    <tr>\n",
       "      <th>1</th>\n",
       "      <td>170</td>\n",
       "    </tr>\n",
       "    <tr>\n",
       "      <th>2</th>\n",
       "      <td>113</td>\n",
       "    </tr>\n",
       "    <tr>\n",
       "      <th>3</th>\n",
       "      <td>8</td>\n",
       "    </tr>\n",
       "    <tr>\n",
       "      <th>5</th>\n",
       "      <td>6</td>\n",
       "    </tr>\n",
       "    <tr>\n",
       "      <th>4</th>\n",
       "      <td>6</td>\n",
       "    </tr>\n",
       "    <tr>\n",
       "      <th>9</th>\n",
       "      <td>2</td>\n",
       "    </tr>\n",
       "    <tr>\n",
       "      <th>6</th>\n",
       "      <td>2</td>\n",
       "    </tr>\n",
       "  </tbody>\n",
       "</table>\n",
       "</div>"
      ],
      "text/plain": [
       "   Parch\n",
       "0   1002\n",
       "1    170\n",
       "2    113\n",
       "3      8\n",
       "5      6\n",
       "4      6\n",
       "9      2\n",
       "6      2"
      ]
     },
     "metadata": {},
     "output_type": "display_data"
    }
   ],
   "source": [
    "# Parchの度数分布を確認\n",
    "display(pd.DataFrame(combined.Parch.value_counts()))\n",
    "\n",
    "# 特徴リストに追加しておく\n",
    "features.append('Parch')"
   ]
  },
  {
   "cell_type": "markdown",
   "metadata": {
    "slideshow": {
     "slide_type": "fragment"
    }
   },
   "source": [
    "- 3以上は件数が少ない"
   ]
  },
  {
   "cell_type": "markdown",
   "metadata": {
    "slideshow": {
     "slide_type": "subslide"
    }
   },
   "source": [
    "- Parchごとの生存率をグラフ化"
   ]
  },
  {
   "cell_type": "code",
   "execution_count": 12,
   "metadata": {
    "slideshow": {
     "slide_type": "-"
    }
   },
   "outputs": [
    {
     "data": {
      "text/plain": [
       "<seaborn.axisgrid.FacetGrid at 0x7efcac487e80>"
      ]
     },
     "execution_count": 12,
     "metadata": {},
     "output_type": "execute_result"
    },
    {
     "data": {
      "image/png": "[encoded data removed]",
      "text/plain": [
       "<matplotlib.figure.Figure at 0x7efcac487978>"
      ]
     },
     "metadata": {},
     "output_type": "display_data"
    }
   ],
   "source": [
    "# Parchごとの生存率\n",
    "sns.factorplot(data=combined[0:891], x='Parch', y='Survived', kind='bar', size=5)"
   ]
  },
  {
   "cell_type": "markdown",
   "metadata": {
    "slideshow": {
     "slide_type": "fragment"
    }
   },
   "source": [
    "- 3以上は、ばらつき（95%信頼区間）も大きい\n",
    "- 0 / 1～2 / 3以上　というようにカテゴリ分割することも考えられる\n",
    "- ここでは、このまま扱うこととする"
   ]
  },
  {
   "cell_type": "markdown",
   "metadata": {
    "slideshow": {
     "slide_type": "slide"
    }
   },
   "source": [
    "## SibSp\n",
    "- 欠損なし\n",
    "- 生存率との関係を見てみる"
   ]
  },
  {
   "cell_type": "code",
   "execution_count": 13,
   "metadata": {
    "slideshow": {
     "slide_type": "-"
    }
   },
   "outputs": [
    {
     "data": {
      "text/html": [
       "<div>\n",
       "<style>\n",
       "    .dataframe thead tr:only-child th {\n",
       "        text-align: right;\n",
       "    }\n",
       "\n",
       "    .dataframe thead th {\n",
       "        text-align: left;\n",
       "    }\n",
       "\n",
       "    .dataframe tbody tr th {\n",
       "        vertical-align: top;\n",
       "    }\n",
       "</style>\n",
       "<table border=\"1\" class=\"dataframe\">\n",
       "  <thead>\n",
       "    <tr style=\"text-align: right;\">\n",
       "      <th></th>\n",
       "      <th>SibSp</th>\n",
       "    </tr>\n",
       "  </thead>\n",
       "  <tbody>\n",
       "    <tr>\n",
       "      <th>0</th>\n",
       "      <td>891</td>\n",
       "    </tr>\n",
       "    <tr>\n",
       "      <th>1</th>\n",
       "      <td>319</td>\n",
       "    </tr>\n",
       "    <tr>\n",
       "      <th>2</th>\n",
       "      <td>42</td>\n",
       "    </tr>\n",
       "    <tr>\n",
       "      <th>4</th>\n",
       "      <td>22</td>\n",
       "    </tr>\n",
       "    <tr>\n",
       "      <th>3</th>\n",
       "      <td>20</td>\n",
       "    </tr>\n",
       "    <tr>\n",
       "      <th>8</th>\n",
       "      <td>9</td>\n",
       "    </tr>\n",
       "    <tr>\n",
       "      <th>5</th>\n",
       "      <td>6</td>\n",
       "    </tr>\n",
       "  </tbody>\n",
       "</table>\n",
       "</div>"
      ],
      "text/plain": [
       "   SibSp\n",
       "0    891\n",
       "1    319\n",
       "2     42\n",
       "4     22\n",
       "3     20\n",
       "8      9\n",
       "5      6"
      ]
     },
     "metadata": {},
     "output_type": "display_data"
    }
   ],
   "source": [
    "# SibSpの度数分布を確認\n",
    "display(pd.DataFrame(combined.SibSp.value_counts()))\n",
    "\n",
    "# 特徴リストに追加しておく\n",
    "features.append('SibSp')"
   ]
  },
  {
   "cell_type": "markdown",
   "metadata": {},
   "source": [
    "- 0と1に集中している"
   ]
  },
  {
   "cell_type": "code",
   "execution_count": 14,
   "metadata": {
    "slideshow": {
     "slide_type": "subslide"
    }
   },
   "outputs": [
    {
     "data": {
      "text/plain": [
       "<seaborn.axisgrid.FacetGrid at 0x7efc2725cd68>"
      ]
     },
     "execution_count": 14,
     "metadata": {},
     "output_type": "execute_result"
    },
    {
     "data": {
      "image/png": "[encoded data removed]",
      "text/plain": [
       "<matplotlib.figure.Figure at 0x7efc271d0320>"
      ]
     },
     "metadata": {},
     "output_type": "display_data"
    }
   ],
   "source": [
    "# SibSpごとの生存率\n",
    "sns.factorplot(data=combined[0:891], x='SibSp', y='Survived', kind='bar', size=5)"
   ]
  },
  {
   "cell_type": "markdown",
   "metadata": {
    "slideshow": {
     "slide_type": "fragment"
    }
   },
   "source": [
    "- 度数分布に偏りがある、2以上はばらつきも大きいなどから、カテゴリ分割することも考えられる\n",
    "- ここでは、このまま扱うこととする"
   ]
  },
  {
   "cell_type": "markdown",
   "metadata": {
    "slideshow": {
     "slide_type": "slide"
    }
   },
   "source": [
    "## FamilySize\n",
    "- ParchとSibSPから新しい特徴量 **FamilySize** (家族の人数)を作る\n",
    "- 家族単位で行動すると思われるので、人数が多いほど避難が困難となるのでは？という考え"
   ]
  },
  {
   "cell_type": "code",
   "execution_count": 15,
   "metadata": {
    "slideshow": {
     "slide_type": "-"
    }
   },
   "outputs": [
    {
     "data": {
      "text/html": [
       "<div>\n",
       "<style>\n",
       "    .dataframe thead tr:only-child th {\n",
       "        text-align: right;\n",
       "    }\n",
       "\n",
       "    .dataframe thead th {\n",
       "        text-align: left;\n",
       "    }\n",
       "\n",
       "    .dataframe tbody tr th {\n",
       "        vertical-align: top;\n",
       "    }\n",
       "</style>\n",
       "<table border=\"1\" class=\"dataframe\">\n",
       "  <thead>\n",
       "    <tr style=\"text-align: right;\">\n",
       "      <th></th>\n",
       "      <th>FamilySize</th>\n",
       "    </tr>\n",
       "  </thead>\n",
       "  <tbody>\n",
       "    <tr>\n",
       "      <th>1</th>\n",
       "      <td>790</td>\n",
       "    </tr>\n",
       "    <tr>\n",
       "      <th>2</th>\n",
       "      <td>235</td>\n",
       "    </tr>\n",
       "    <tr>\n",
       "      <th>3</th>\n",
       "      <td>159</td>\n",
       "    </tr>\n",
       "    <tr>\n",
       "      <th>4</th>\n",
       "      <td>43</td>\n",
       "    </tr>\n",
       "    <tr>\n",
       "      <th>6</th>\n",
       "      <td>25</td>\n",
       "    </tr>\n",
       "    <tr>\n",
       "      <th>5</th>\n",
       "      <td>22</td>\n",
       "    </tr>\n",
       "    <tr>\n",
       "      <th>7</th>\n",
       "      <td>16</td>\n",
       "    </tr>\n",
       "    <tr>\n",
       "      <th>11</th>\n",
       "      <td>11</td>\n",
       "    </tr>\n",
       "    <tr>\n",
       "      <th>8</th>\n",
       "      <td>8</td>\n",
       "    </tr>\n",
       "  </tbody>\n",
       "</table>\n",
       "</div>"
      ],
      "text/plain": [
       "    FamilySize\n",
       "1          790\n",
       "2          235\n",
       "3          159\n",
       "4           43\n",
       "6           25\n",
       "5           22\n",
       "7           16\n",
       "11          11\n",
       "8            8"
      ]
     },
     "execution_count": 15,
     "metadata": {},
     "output_type": "execute_result"
    }
   ],
   "source": [
    "# FamilySize\n",
    "combined['FamilySize'] = combined['Parch'] + combined['SibSp'] + 1\n",
    "\n",
    "# 度数分布 \n",
    "pd.DataFrame(combined.FamilySize.value_counts())"
   ]
  },
  {
   "cell_type": "code",
   "execution_count": 16,
   "metadata": {
    "slideshow": {
     "slide_type": "subslide"
    }
   },
   "outputs": [
    {
     "data": {
      "text/plain": [
       "<seaborn.axisgrid.FacetGrid at 0x7efc2728aa20>"
      ]
     },
     "execution_count": 16,
     "metadata": {},
     "output_type": "execute_result"
    },
    {
     "data": {
      "image/png": "[encoded data removed]",
      "text/plain": [
       "<matplotlib.figure.Figure at 0x7efcac512908>"
      ]
     },
     "metadata": {},
     "output_type": "display_data"
    }
   ],
   "source": [
    "# FamilySizeと生存率\n",
    "sns.factorplot(data=combined[:891], x='FamilySize', y='Survived', kind='bar', size=5)"
   ]
  },
  {
   "cell_type": "markdown",
   "metadata": {
    "slideshow": {
     "slide_type": "fragment"
    }
   },
   "source": [
    "- 1 / 2～4 / 5～ でグループに分かれているように見える\n",
    "- この3つのカテゴリに分割する"
   ]
  },
  {
   "cell_type": "code",
   "execution_count": 17,
   "metadata": {
    "slideshow": {
     "slide_type": "subslide"
    }
   },
   "outputs": [
    {
     "data": {
      "text/plain": [
       "<seaborn.axisgrid.FacetGrid at 0x7efc270bc048>"
      ]
     },
     "execution_count": 17,
     "metadata": {},
     "output_type": "execute_result"
    },
    {
     "data": {
      "image/png": "[encoded data removed]",
      "text/plain": [
       "<matplotlib.figure.Figure at 0x7efc2700c6d8>"
      ]
     },
     "metadata": {},
     "output_type": "display_data"
    }
   ],
   "source": [
    "# FamilySizeを1, 2-4, 5- の3カテゴリに分類\n",
    "combined['FamilySize'] = pd.cut(combined['FamilySize'], bins=[0, 1, 4, 15], labels=[0, 1, 2])\n",
    "\n",
    "# ダミー変数化して特徴リストに追加\n",
    "combined = pd.concat([combined, pd.get_dummies(combined['FamilySize'], prefix='FamilySize')], axis=1)\n",
    "features.extend(['FamilySize_0', 'FamilySize_1', 'FamilySize_2'])\n",
    "\n",
    "# FamilySizeと生存率\n",
    "sns.factorplot(data=combined[:891], x='FamilySize', y='Survived', kind='bar', size=4)"
   ]
  },
  {
   "cell_type": "markdown",
   "metadata": {
    "slideshow": {
     "slide_type": "fragment"
    }
   },
   "source": [
    "- 単身者よりも少人数の家族のほうが有利\n",
    "- 大家族は圧倒的に不利"
   ]
  },
  {
   "cell_type": "markdown",
   "metadata": {
    "slideshow": {
     "slide_type": "slide"
    }
   },
   "source": [
    "## Sex\n",
    "- 欠損なし"
   ]
  },
  {
   "cell_type": "code",
   "execution_count": 18,
   "metadata": {
    "slideshow": {
     "slide_type": "-"
    }
   },
   "outputs": [
    {
     "data": {
      "text/html": [
       "<div>\n",
       "<style>\n",
       "    .dataframe thead tr:only-child th {\n",
       "        text-align: right;\n",
       "    }\n",
       "\n",
       "    .dataframe thead th {\n",
       "        text-align: left;\n",
       "    }\n",
       "\n",
       "    .dataframe tbody tr th {\n",
       "        vertical-align: top;\n",
       "    }\n",
       "</style>\n",
       "<table border=\"1\" class=\"dataframe\">\n",
       "  <thead>\n",
       "    <tr style=\"text-align: right;\">\n",
       "      <th></th>\n",
       "      <th>Sex</th>\n",
       "    </tr>\n",
       "  </thead>\n",
       "  <tbody>\n",
       "    <tr>\n",
       "      <th>male</th>\n",
       "      <td>843</td>\n",
       "    </tr>\n",
       "    <tr>\n",
       "      <th>female</th>\n",
       "      <td>466</td>\n",
       "    </tr>\n",
       "  </tbody>\n",
       "</table>\n",
       "</div>"
      ],
      "text/plain": [
       "        Sex\n",
       "male    843\n",
       "female  466"
      ]
     },
     "metadata": {},
     "output_type": "display_data"
    }
   ],
   "source": [
    "# 度数分布を確認\n",
    "display(pd.DataFrame(combined.Sex.value_counts()))\n",
    "\n",
    "# ダミー変数に変換\n",
    "combined = pd.concat([combined, pd.get_dummies(combined['Sex'])], axis=1)\n",
    "\n",
    "# 特徴リストに追加\n",
    "features.extend(['male', 'female'])"
   ]
  },
  {
   "cell_type": "code",
   "execution_count": 19,
   "metadata": {
    "slideshow": {
     "slide_type": "subslide"
    }
   },
   "outputs": [
    {
     "data": {
      "text/plain": [
       "<seaborn.axisgrid.FacetGrid at 0x7efc27046d68>"
      ]
     },
     "execution_count": 19,
     "metadata": {},
     "output_type": "execute_result"
    },
    {
     "data": {
      "image/png": "[encoded data removed]",
      "text/plain": [
       "<matplotlib.figure.Figure at 0x7efc2703dac8>"
      ]
     },
     "metadata": {},
     "output_type": "display_data"
    }
   ],
   "source": [
    "# 性別ごとの生存率\n",
    "sns.factorplot(data=combined[0:891], x='Sex', y='Survived', kind='bar', size=5)"
   ]
  },
  {
   "cell_type": "markdown",
   "metadata": {
    "collapsed": true,
    "slideshow": {
     "slide_type": "fragment"
    }
   },
   "source": [
    "- 女性のほうが圧倒的に生存している"
   ]
  },
  {
   "cell_type": "markdown",
   "metadata": {
    "slideshow": {
     "slide_type": "slide"
    }
   },
   "source": [
    "## Embarked\n",
    "- 欠損あり（2件）"
   ]
  },
  {
   "cell_type": "code",
   "execution_count": 20,
   "metadata": {
    "slideshow": {
     "slide_type": "-"
    }
   },
   "outputs": [
    {
     "data": {
      "text/html": [
       "<div>\n",
       "<style>\n",
       "    .dataframe thead tr:only-child th {\n",
       "        text-align: right;\n",
       "    }\n",
       "\n",
       "    .dataframe thead th {\n",
       "        text-align: left;\n",
       "    }\n",
       "\n",
       "    .dataframe tbody tr th {\n",
       "        vertical-align: top;\n",
       "    }\n",
       "</style>\n",
       "<table border=\"1\" class=\"dataframe\">\n",
       "  <thead>\n",
       "    <tr style=\"text-align: right;\">\n",
       "      <th></th>\n",
       "      <th>Age</th>\n",
       "      <th>Cabin</th>\n",
       "      <th>Embarked</th>\n",
       "      <th>Fare</th>\n",
       "      <th>Name</th>\n",
       "      <th>Parch</th>\n",
       "      <th>PassengerId</th>\n",
       "      <th>Pclass</th>\n",
       "      <th>Sex</th>\n",
       "      <th>SibSp</th>\n",
       "      <th>Survived</th>\n",
       "      <th>Ticket</th>\n",
       "    </tr>\n",
       "  </thead>\n",
       "  <tbody>\n",
       "    <tr>\n",
       "      <th>61</th>\n",
       "      <td>38.0</td>\n",
       "      <td>B28</td>\n",
       "      <td>NaN</td>\n",
       "      <td>80.0</td>\n",
       "      <td>Icard, Miss. Amelie</td>\n",
       "      <td>0</td>\n",
       "      <td>62</td>\n",
       "      <td>1</td>\n",
       "      <td>female</td>\n",
       "      <td>0</td>\n",
       "      <td>1.0</td>\n",
       "      <td>113572</td>\n",
       "    </tr>\n",
       "    <tr>\n",
       "      <th>829</th>\n",
       "      <td>62.0</td>\n",
       "      <td>B28</td>\n",
       "      <td>NaN</td>\n",
       "      <td>80.0</td>\n",
       "      <td>Stone, Mrs. George Nelson (Martha Evelyn)</td>\n",
       "      <td>0</td>\n",
       "      <td>830</td>\n",
       "      <td>1</td>\n",
       "      <td>female</td>\n",
       "      <td>0</td>\n",
       "      <td>1.0</td>\n",
       "      <td>113572</td>\n",
       "    </tr>\n",
       "  </tbody>\n",
       "</table>\n",
       "</div>"
      ],
      "text/plain": [
       "      Age Cabin Embarked  Fare                                       Name  \\\n",
       "61   38.0   B28      NaN  80.0                        Icard, Miss. Amelie   \n",
       "829  62.0   B28      NaN  80.0  Stone, Mrs. George Nelson (Martha Evelyn)   \n",
       "\n",
       "     Parch  PassengerId  Pclass     Sex  SibSp  Survived  Ticket  \n",
       "61       0           62       1  female      0       1.0  113572  \n",
       "829      0          830       1  female      0       1.0  113572  "
      ]
     },
     "execution_count": 20,
     "metadata": {},
     "output_type": "execute_result"
    }
   ],
   "source": [
    "# 欠損データ確認\n",
    "combined[combined.Embarked.isnull()][original_features]"
   ]
  },
  {
   "cell_type": "code",
   "execution_count": 21,
   "metadata": {
    "slideshow": {
     "slide_type": "fragment"
    }
   },
   "outputs": [
    {
     "data": {
      "text/plain": [
       "S    5\n",
       "C    4\n",
       "Name: Embarked, dtype: int64"
      ]
     },
     "execution_count": 21,
     "metadata": {},
     "output_type": "execute_result"
    }
   ],
   "source": [
    "# CabinとTicketが同じなので、同乗者と推測\n",
    "# Pclass=1かつ Fare±10% (価格が近い)かつ CabinがBのEmbarkedの値を確認\n",
    "combined.loc[(combined.Pclass == 1) & (72. < combined.Fare) & \n",
    "             (combined.Fare < 88.) & (combined.Cabin.str.contains('B')) &\n",
    "             combined.Embarked.notnull(), 'Embarked'].value_counts()"
   ]
  },
  {
   "cell_type": "markdown",
   "metadata": {
    "slideshow": {
     "slide_type": "subslide"
    }
   },
   "source": [
    "- SともCとも判断つかないので、元データを確認してみる"
   ]
  },
  {
   "cell_type": "code",
   "execution_count": 22,
   "metadata": {
    "slideshow": {
     "slide_type": "-"
    }
   },
   "outputs": [
    {
     "data": {
      "text/html": [
       "<div>\n",
       "<style>\n",
       "    .dataframe thead tr:only-child th {\n",
       "        text-align: right;\n",
       "    }\n",
       "\n",
       "    .dataframe thead th {\n",
       "        text-align: left;\n",
       "    }\n",
       "\n",
       "    .dataframe tbody tr th {\n",
       "        vertical-align: top;\n",
       "    }\n",
       "</style>\n",
       "<table border=\"1\" class=\"dataframe\">\n",
       "  <thead>\n",
       "    <tr style=\"text-align: right;\">\n",
       "      <th></th>\n",
       "      <th>Age</th>\n",
       "      <th>Cabin</th>\n",
       "      <th>Embarked</th>\n",
       "      <th>Fare</th>\n",
       "      <th>Name</th>\n",
       "      <th>Parch</th>\n",
       "      <th>PassengerId</th>\n",
       "      <th>Pclass</th>\n",
       "      <th>Sex</th>\n",
       "      <th>SibSp</th>\n",
       "      <th>Survived</th>\n",
       "      <th>Ticket</th>\n",
       "    </tr>\n",
       "  </thead>\n",
       "  <tbody>\n",
       "    <tr>\n",
       "      <th>257</th>\n",
       "      <td>30.0</td>\n",
       "      <td>B77</td>\n",
       "      <td>S</td>\n",
       "      <td>86.5000</td>\n",
       "      <td>Cherry, Miss. Gladys</td>\n",
       "      <td>0</td>\n",
       "      <td>258</td>\n",
       "      <td>1</td>\n",
       "      <td>female</td>\n",
       "      <td>0</td>\n",
       "      <td>1.0</td>\n",
       "      <td>110152</td>\n",
       "    </tr>\n",
       "    <tr>\n",
       "      <th>504</th>\n",
       "      <td>16.0</td>\n",
       "      <td>B79</td>\n",
       "      <td>S</td>\n",
       "      <td>86.5000</td>\n",
       "      <td>Maioni, Miss. Roberta</td>\n",
       "      <td>0</td>\n",
       "      <td>505</td>\n",
       "      <td>1</td>\n",
       "      <td>female</td>\n",
       "      <td>0</td>\n",
       "      <td>1.0</td>\n",
       "      <td>110152</td>\n",
       "    </tr>\n",
       "    <tr>\n",
       "      <th>759</th>\n",
       "      <td>33.0</td>\n",
       "      <td>B77</td>\n",
       "      <td>S</td>\n",
       "      <td>86.5000</td>\n",
       "      <td>Rothes, the Countess. of (Lucy Noel Martha Dye...</td>\n",
       "      <td>0</td>\n",
       "      <td>760</td>\n",
       "      <td>1</td>\n",
       "      <td>female</td>\n",
       "      <td>0</td>\n",
       "      <td>1.0</td>\n",
       "      <td>110152</td>\n",
       "    </tr>\n",
       "    <tr>\n",
       "      <th>587</th>\n",
       "      <td>60.0</td>\n",
       "      <td>B41</td>\n",
       "      <td>C</td>\n",
       "      <td>79.2000</td>\n",
       "      <td>Frolicher-Stehli, Mr. Maxmillian</td>\n",
       "      <td>1</td>\n",
       "      <td>588</td>\n",
       "      <td>1</td>\n",
       "      <td>male</td>\n",
       "      <td>1</td>\n",
       "      <td>1.0</td>\n",
       "      <td>13567</td>\n",
       "    </tr>\n",
       "    <tr>\n",
       "      <th>1288</th>\n",
       "      <td>48.0</td>\n",
       "      <td>B41</td>\n",
       "      <td>C</td>\n",
       "      <td>79.2000</td>\n",
       "      <td>Frolicher-Stehli, Mrs. Maxmillian (Margaretha ...</td>\n",
       "      <td>1</td>\n",
       "      <td>1289</td>\n",
       "      <td>1</td>\n",
       "      <td>female</td>\n",
       "      <td>1</td>\n",
       "      <td>NaN</td>\n",
       "      <td>13567</td>\n",
       "    </tr>\n",
       "    <tr>\n",
       "      <th>903</th>\n",
       "      <td>23.0</td>\n",
       "      <td>B45</td>\n",
       "      <td>S</td>\n",
       "      <td>82.2667</td>\n",
       "      <td>Snyder, Mrs. John Pillsbury (Nelle Stevenson)</td>\n",
       "      <td>0</td>\n",
       "      <td>904</td>\n",
       "      <td>1</td>\n",
       "      <td>female</td>\n",
       "      <td>1</td>\n",
       "      <td>NaN</td>\n",
       "      <td>21228</td>\n",
       "    </tr>\n",
       "    <tr>\n",
       "      <th>1178</th>\n",
       "      <td>24.0</td>\n",
       "      <td>B45</td>\n",
       "      <td>S</td>\n",
       "      <td>82.2667</td>\n",
       "      <td>Snyder, Mr. John Pillsbury</td>\n",
       "      <td>0</td>\n",
       "      <td>1179</td>\n",
       "      <td>1</td>\n",
       "      <td>male</td>\n",
       "      <td>1</td>\n",
       "      <td>NaN</td>\n",
       "      <td>21228</td>\n",
       "    </tr>\n",
       "    <tr>\n",
       "      <th>139</th>\n",
       "      <td>24.0</td>\n",
       "      <td>B86</td>\n",
       "      <td>C</td>\n",
       "      <td>79.2000</td>\n",
       "      <td>Giglio, Mr. Victor</td>\n",
       "      <td>0</td>\n",
       "      <td>140</td>\n",
       "      <td>1</td>\n",
       "      <td>male</td>\n",
       "      <td>0</td>\n",
       "      <td>0.0</td>\n",
       "      <td>PC 17593</td>\n",
       "    </tr>\n",
       "    <tr>\n",
       "      <th>789</th>\n",
       "      <td>46.0</td>\n",
       "      <td>B82 B84</td>\n",
       "      <td>C</td>\n",
       "      <td>79.2000</td>\n",
       "      <td>Guggenheim, Mr. Benjamin</td>\n",
       "      <td>0</td>\n",
       "      <td>790</td>\n",
       "      <td>1</td>\n",
       "      <td>male</td>\n",
       "      <td>0</td>\n",
       "      <td>0.0</td>\n",
       "      <td>PC 17593</td>\n",
       "    </tr>\n",
       "  </tbody>\n",
       "</table>\n",
       "</div>"
      ],
      "text/plain": [
       "       Age    Cabin Embarked     Fare  \\\n",
       "257   30.0      B77        S  86.5000   \n",
       "504   16.0      B79        S  86.5000   \n",
       "759   33.0      B77        S  86.5000   \n",
       "587   60.0      B41        C  79.2000   \n",
       "1288  48.0      B41        C  79.2000   \n",
       "903   23.0      B45        S  82.2667   \n",
       "1178  24.0      B45        S  82.2667   \n",
       "139   24.0      B86        C  79.2000   \n",
       "789   46.0  B82 B84        C  79.2000   \n",
       "\n",
       "                                                   Name  Parch  PassengerId  \\\n",
       "257                                Cherry, Miss. Gladys      0          258   \n",
       "504                               Maioni, Miss. Roberta      0          505   \n",
       "759   Rothes, the Countess. of (Lucy Noel Martha Dye...      0          760   \n",
       "587                    Frolicher-Stehli, Mr. Maxmillian      1          588   \n",
       "1288  Frolicher-Stehli, Mrs. Maxmillian (Margaretha ...      1         1289   \n",
       "903       Snyder, Mrs. John Pillsbury (Nelle Stevenson)      0          904   \n",
       "1178                         Snyder, Mr. John Pillsbury      0         1179   \n",
       "139                                  Giglio, Mr. Victor      0          140   \n",
       "789                            Guggenheim, Mr. Benjamin      0          790   \n",
       "\n",
       "      Pclass     Sex  SibSp  Survived    Ticket  \n",
       "257        1  female      0       1.0    110152  \n",
       "504        1  female      0       1.0    110152  \n",
       "759        1  female      0       1.0    110152  \n",
       "587        1    male      1       1.0     13567  \n",
       "1288       1  female      1       NaN     13567  \n",
       "903        1  female      1       NaN     21228  \n",
       "1178       1    male      1       NaN     21228  \n",
       "139        1    male      0       0.0  PC 17593  \n",
       "789        1    male      0       0.0  PC 17593  "
      ]
     },
     "execution_count": 22,
     "metadata": {},
     "output_type": "execute_result"
    }
   ],
   "source": [
    "# データを見てみる\n",
    "combined.loc[(combined.Pclass == 1) & (72. < combined.Fare) & \n",
    "             (combined.Fare < 88.) & (combined.Cabin.str.contains('B')) &\n",
    "             combined.Embarked.notnull(), original_features].sort_values(by='Ticket')"
   ]
  },
  {
   "cell_type": "markdown",
   "metadata": {
    "slideshow": {
     "slide_type": "subslide"
    }
   },
   "source": [
    "- S、Cどちらもありえそうなので、全体で多いほうで補完する"
   ]
  },
  {
   "cell_type": "code",
   "execution_count": 23,
   "metadata": {
    "slideshow": {
     "slide_type": "-"
    }
   },
   "outputs": [
    {
     "data": {
      "text/html": [
       "<div>\n",
       "<style>\n",
       "    .dataframe thead tr:only-child th {\n",
       "        text-align: right;\n",
       "    }\n",
       "\n",
       "    .dataframe thead th {\n",
       "        text-align: left;\n",
       "    }\n",
       "\n",
       "    .dataframe tbody tr th {\n",
       "        vertical-align: top;\n",
       "    }\n",
       "</style>\n",
       "<table border=\"1\" class=\"dataframe\">\n",
       "  <thead>\n",
       "    <tr style=\"text-align: right;\">\n",
       "      <th></th>\n",
       "      <th>Embarked</th>\n",
       "    </tr>\n",
       "  </thead>\n",
       "  <tbody>\n",
       "    <tr>\n",
       "      <th>S</th>\n",
       "      <td>914</td>\n",
       "    </tr>\n",
       "    <tr>\n",
       "      <th>C</th>\n",
       "      <td>270</td>\n",
       "    </tr>\n",
       "    <tr>\n",
       "      <th>Q</th>\n",
       "      <td>123</td>\n",
       "    </tr>\n",
       "  </tbody>\n",
       "</table>\n",
       "</div>"
      ],
      "text/plain": [
       "   Embarked\n",
       "S       914\n",
       "C       270\n",
       "Q       123"
      ]
     },
     "execution_count": 23,
     "metadata": {},
     "output_type": "execute_result"
    }
   ],
   "source": [
    "# 度数分布確認\n",
    "pd.DataFrame(combined.Embarked.value_counts())"
   ]
  },
  {
   "cell_type": "markdown",
   "metadata": {
    "slideshow": {
     "slide_type": "subslide"
    }
   },
   "source": [
    "- Sで補完し、ダミー変数に変換する\n",
    "- 生存率を見てみる"
   ]
  },
  {
   "cell_type": "code",
   "execution_count": 24,
   "metadata": {
    "slideshow": {
     "slide_type": "-"
    }
   },
   "outputs": [
    {
     "data": {
      "text/plain": [
       "<seaborn.axisgrid.FacetGrid at 0x7efc26f51390>"
      ]
     },
     "execution_count": 24,
     "metadata": {},
     "output_type": "execute_result"
    },
    {
     "data": {
      "image/png": "[encoded data removed]",
      "text/plain": [
       "<matplotlib.figure.Figure at 0x7efc26f512b0>"
      ]
     },
     "metadata": {},
     "output_type": "display_data"
    }
   ],
   "source": [
    "# Embarked = S で補完\n",
    "combined['Embarked'] = combined['Embarked'].fillna('S')\n",
    "\n",
    "# ダミー変数に変換、特徴リストに追加\n",
    "combined = pd.concat([combined, pd.get_dummies(combined['Embarked'], prefix='Embarked')], axis=1)\n",
    "features.extend(['Embarked_S', 'Embarked_Q', 'Embarked_C'])\n",
    "\n",
    "# 生存率\n",
    "sns.factorplot(data=combined[0:891], x='Embarked', y='Survived', kind='bar', size=4)"
   ]
  },
  {
   "cell_type": "markdown",
   "metadata": {
    "slideshow": {
     "slide_type": "slide"
    }
   },
   "source": [
    "## Fare\n",
    "- 欠損あり（1件）"
   ]
  },
  {
   "cell_type": "code",
   "execution_count": 25,
   "metadata": {
    "slideshow": {
     "slide_type": "-"
    }
   },
   "outputs": [
    {
     "data": {
      "text/html": [
       "<div>\n",
       "<style>\n",
       "    .dataframe thead tr:only-child th {\n",
       "        text-align: right;\n",
       "    }\n",
       "\n",
       "    .dataframe thead th {\n",
       "        text-align: left;\n",
       "    }\n",
       "\n",
       "    .dataframe tbody tr th {\n",
       "        vertical-align: top;\n",
       "    }\n",
       "</style>\n",
       "<table border=\"1\" class=\"dataframe\">\n",
       "  <thead>\n",
       "    <tr style=\"text-align: right;\">\n",
       "      <th></th>\n",
       "      <th>Age</th>\n",
       "      <th>Cabin</th>\n",
       "      <th>Embarked</th>\n",
       "      <th>Fare</th>\n",
       "      <th>Name</th>\n",
       "      <th>Parch</th>\n",
       "      <th>PassengerId</th>\n",
       "      <th>Pclass</th>\n",
       "      <th>Sex</th>\n",
       "      <th>SibSp</th>\n",
       "      <th>Survived</th>\n",
       "      <th>Ticket</th>\n",
       "    </tr>\n",
       "  </thead>\n",
       "  <tbody>\n",
       "    <tr>\n",
       "      <th>1043</th>\n",
       "      <td>60.5</td>\n",
       "      <td>NaN</td>\n",
       "      <td>S</td>\n",
       "      <td>NaN</td>\n",
       "      <td>Storey, Mr. Thomas</td>\n",
       "      <td>0</td>\n",
       "      <td>1044</td>\n",
       "      <td>3</td>\n",
       "      <td>male</td>\n",
       "      <td>0</td>\n",
       "      <td>NaN</td>\n",
       "      <td>3701</td>\n",
       "    </tr>\n",
       "  </tbody>\n",
       "</table>\n",
       "</div>"
      ],
      "text/plain": [
       "       Age Cabin Embarked  Fare                Name  Parch  PassengerId  \\\n",
       "1043  60.5   NaN        S   NaN  Storey, Mr. Thomas      0         1044   \n",
       "\n",
       "      Pclass   Sex  SibSp  Survived Ticket  \n",
       "1043       3  male      0       NaN   3701  "
      ]
     },
     "execution_count": 25,
     "metadata": {},
     "output_type": "execute_result"
    }
   ],
   "source": [
    "# 欠損データ確認\n",
    "combined[combined.Fare.isnull()][original_features]"
   ]
  },
  {
   "cell_type": "markdown",
   "metadata": {
    "slideshow": {
     "slide_type": "fragment"
    }
   },
   "source": [
    "- 料金が決まる要素として考えられるもの\n",
    "    - クラス\n",
    "    - 距離（乗船地）\n",
    "    - 人数"
   ]
  },
  {
   "cell_type": "markdown",
   "metadata": {
    "slideshow": {
     "slide_type": "subslide"
    }
   },
   "source": [
    "- Pclass, Embarked, Parch, SibSpが同じデータの平均値で補完"
   ]
  },
  {
   "cell_type": "code",
   "execution_count": 26,
   "metadata": {
    "slideshow": {
     "slide_type": "-"
    }
   },
   "outputs": [
    {
     "data": {
      "text/html": [
       "<div>\n",
       "<style>\n",
       "    .dataframe thead tr:only-child th {\n",
       "        text-align: right;\n",
       "    }\n",
       "\n",
       "    .dataframe thead th {\n",
       "        text-align: left;\n",
       "    }\n",
       "\n",
       "    .dataframe tbody tr th {\n",
       "        vertical-align: top;\n",
       "    }\n",
       "</style>\n",
       "<table border=\"1\" class=\"dataframe\">\n",
       "  <thead>\n",
       "    <tr style=\"text-align: right;\">\n",
       "      <th></th>\n",
       "      <th>Age</th>\n",
       "      <th>Cabin</th>\n",
       "      <th>Embarked</th>\n",
       "      <th>Fare</th>\n",
       "      <th>Name</th>\n",
       "      <th>Parch</th>\n",
       "      <th>PassengerId</th>\n",
       "      <th>Pclass</th>\n",
       "      <th>Sex</th>\n",
       "      <th>SibSp</th>\n",
       "      <th>Survived</th>\n",
       "      <th>Ticket</th>\n",
       "    </tr>\n",
       "  </thead>\n",
       "  <tbody>\n",
       "    <tr>\n",
       "      <th>1043</th>\n",
       "      <td>60.5</td>\n",
       "      <td>NaN</td>\n",
       "      <td>S</td>\n",
       "      <td>9.593713</td>\n",
       "      <td>Storey, Mr. Thomas</td>\n",
       "      <td>0</td>\n",
       "      <td>1044</td>\n",
       "      <td>3</td>\n",
       "      <td>male</td>\n",
       "      <td>0</td>\n",
       "      <td>NaN</td>\n",
       "      <td>3701</td>\n",
       "    </tr>\n",
       "  </tbody>\n",
       "</table>\n",
       "</div>"
      ],
      "text/plain": [
       "       Age Cabin Embarked      Fare                Name  Parch  PassengerId  \\\n",
       "1043  60.5   NaN        S  9.593713  Storey, Mr. Thomas      0         1044   \n",
       "\n",
       "      Pclass   Sex  SibSp  Survived Ticket  \n",
       "1043       3  male      0       NaN   3701  "
      ]
     },
     "execution_count": 26,
     "metadata": {},
     "output_type": "execute_result"
    }
   ],
   "source": [
    "fare_mean = combined[(combined.Pclass == 3) & (combined.Embarked == 'S') &\n",
    "                    (combined.Parch == 0) & (combined.SibSp == 0)].Fare.mean()\n",
    "combined['Fare'].fillna(fare_mean, inplace=True)\n",
    "\n",
    "# 特徴リストに追加\n",
    "features.append('Fare')\n",
    "\n",
    "# 確認\n",
    "combined[combined.PassengerId == 1044][original_features]"
   ]
  },
  {
   "cell_type": "markdown",
   "metadata": {
    "slideshow": {
     "slide_type": "subslide"
    }
   },
   "source": [
    "- 料金帯ごとの生存者数・死亡者数をヒストグラムで可視化\n",
    "    - seabornだと積上げヒストグラムが描けないので、matplotlibで描いてみる"
   ]
  },
  {
   "cell_type": "code",
   "execution_count": 27,
   "metadata": {
    "slideshow": {
     "slide_type": "-"
    }
   },
   "outputs": [
    {
     "data": {
      "text/plain": [
       "<matplotlib.legend.Legend at 0x7efc26e826a0>"
      ]
     },
     "execution_count": 27,
     "metadata": {},
     "output_type": "execute_result"
    },
    {
     "data": {
      "image/png": "[encoded data removed]",
      "text/plain": [
       "<matplotlib.figure.Figure at 0x7efc26dfcb38>"
      ]
     },
     "metadata": {},
     "output_type": "display_data"
    }
   ],
   "source": [
    "# 料金を15階級に均等分割してヒストグラムを作成\n",
    "data = combined[:891]\n",
    "fig = plt.figure(figsize=(10,5))\n",
    "plt.hist([data[data['Survived']==1]['Fare'], data[data['Survived']==0]['Fare']],\n",
    "         stacked=True, bins=15, label=['Survived', 'Dead'], rwidth=0.8, color=['g', 'r'])\n",
    "plt.xlabel('Fare')\n",
    "plt.ylabel('Number of passengers')\n",
    "plt.legend()"
   ]
  },
  {
   "cell_type": "markdown",
   "metadata": {
    "slideshow": {
     "slide_type": "slide"
    }
   },
   "source": [
    "## Name\n",
    "名前を処理して新たな特徴量を作り出す\n",
    "- Title(敬称)を抽出し特徴量とする\n",
    "    - 性別・年齢・身分などを表しているので、生死に関連すると思われる\n",
    "- NameLength(名前の長さ)を特徴量とする\n",
    "    - 長い名前は、女性(旧姓が書いてある)や高貴な人の可能性が高い"
   ]
  },
  {
   "cell_type": "markdown",
   "metadata": {
    "slideshow": {
     "slide_type": "slide"
    }
   },
   "source": [
    "### Title"
   ]
  },
  {
   "cell_type": "code",
   "execution_count": 28,
   "metadata": {
    "slideshow": {
     "slide_type": "-"
    }
   },
   "outputs": [
    {
     "data": {
      "text/html": [
       "<div>\n",
       "<style>\n",
       "    .dataframe thead tr:only-child th {\n",
       "        text-align: right;\n",
       "    }\n",
       "\n",
       "    .dataframe thead th {\n",
       "        text-align: left;\n",
       "    }\n",
       "\n",
       "    .dataframe tbody tr th {\n",
       "        vertical-align: top;\n",
       "    }\n",
       "</style>\n",
       "<table border=\"1\" class=\"dataframe\">\n",
       "  <thead>\n",
       "    <tr style=\"text-align: right;\">\n",
       "      <th>Title</th>\n",
       "      <th>Capt</th>\n",
       "      <th>Col</th>\n",
       "      <th>Countess</th>\n",
       "      <th>Don</th>\n",
       "      <th>Dona</th>\n",
       "      <th>Dr</th>\n",
       "      <th>Jonkheer</th>\n",
       "      <th>Lady</th>\n",
       "      <th>Major</th>\n",
       "      <th>Master</th>\n",
       "      <th>Miss</th>\n",
       "      <th>Mlle</th>\n",
       "      <th>Mme</th>\n",
       "      <th>Mr</th>\n",
       "      <th>Mrs</th>\n",
       "      <th>Ms</th>\n",
       "      <th>Rev</th>\n",
       "      <th>Sir</th>\n",
       "    </tr>\n",
       "    <tr>\n",
       "      <th>Sex</th>\n",
       "      <th></th>\n",
       "      <th></th>\n",
       "      <th></th>\n",
       "      <th></th>\n",
       "      <th></th>\n",
       "      <th></th>\n",
       "      <th></th>\n",
       "      <th></th>\n",
       "      <th></th>\n",
       "      <th></th>\n",
       "      <th></th>\n",
       "      <th></th>\n",
       "      <th></th>\n",
       "      <th></th>\n",
       "      <th></th>\n",
       "      <th></th>\n",
       "      <th></th>\n",
       "      <th></th>\n",
       "    </tr>\n",
       "  </thead>\n",
       "  <tbody>\n",
       "    <tr>\n",
       "      <th>female</th>\n",
       "      <td>0</td>\n",
       "      <td>0</td>\n",
       "      <td>1</td>\n",
       "      <td>0</td>\n",
       "      <td>1</td>\n",
       "      <td>1</td>\n",
       "      <td>0</td>\n",
       "      <td>1</td>\n",
       "      <td>0</td>\n",
       "      <td>0</td>\n",
       "      <td>260</td>\n",
       "      <td>2</td>\n",
       "      <td>1</td>\n",
       "      <td>0</td>\n",
       "      <td>197</td>\n",
       "      <td>2</td>\n",
       "      <td>0</td>\n",
       "      <td>0</td>\n",
       "    </tr>\n",
       "    <tr>\n",
       "      <th>male</th>\n",
       "      <td>1</td>\n",
       "      <td>4</td>\n",
       "      <td>0</td>\n",
       "      <td>1</td>\n",
       "      <td>0</td>\n",
       "      <td>7</td>\n",
       "      <td>1</td>\n",
       "      <td>0</td>\n",
       "      <td>2</td>\n",
       "      <td>61</td>\n",
       "      <td>0</td>\n",
       "      <td>0</td>\n",
       "      <td>0</td>\n",
       "      <td>757</td>\n",
       "      <td>0</td>\n",
       "      <td>0</td>\n",
       "      <td>8</td>\n",
       "      <td>1</td>\n",
       "    </tr>\n",
       "  </tbody>\n",
       "</table>\n",
       "</div>"
      ],
      "text/plain": [
       "Title   Capt  Col  Countess  Don  Dona  Dr  Jonkheer  Lady  Major  Master  \\\n",
       "Sex                                                                         \n",
       "female     0    0         1    0     1   1         0     1      0       0   \n",
       "male       1    4         0    1     0   7         1     0      2      61   \n",
       "\n",
       "Title   Miss  Mlle  Mme   Mr  Mrs  Ms  Rev  Sir  \n",
       "Sex                                              \n",
       "female   260     2    1    0  197   2    0    0  \n",
       "male       0     0    0  757    0   0    8    1  "
      ]
     },
     "execution_count": 28,
     "metadata": {},
     "output_type": "execute_result"
    }
   ],
   "source": [
    "# Titleを抽出\n",
    "combined['Title'] = combined.Name.str.extract('([A-Za-z]+)\\.')\n",
    "\n",
    "# Titleの男女構成（クロス集計）\n",
    "pd.crosstab(combined['Sex'], [combined['Title']])"
   ]
  },
  {
   "cell_type": "markdown",
   "metadata": {
    "slideshow": {
     "slide_type": "fragment"
    }
   },
   "source": [
    "- 人数の少ないTitleが結構ある"
   ]
  },
  {
   "cell_type": "code",
   "execution_count": 29,
   "metadata": {
    "slideshow": {
     "slide_type": "subslide"
    }
   },
   "outputs": [
    {
     "data": {
      "text/html": [
       "<div>\n",
       "<style>\n",
       "    .dataframe thead tr:only-child th {\n",
       "        text-align: right;\n",
       "    }\n",
       "\n",
       "    .dataframe thead th {\n",
       "        text-align: left;\n",
       "    }\n",
       "\n",
       "    .dataframe tbody tr th {\n",
       "        vertical-align: top;\n",
       "    }\n",
       "</style>\n",
       "<table border=\"1\" class=\"dataframe\">\n",
       "  <thead>\n",
       "    <tr style=\"text-align: right;\">\n",
       "      <th>TitleCat</th>\n",
       "      <th>Master</th>\n",
       "      <th>Miss</th>\n",
       "      <th>Mr</th>\n",
       "      <th>Mrs</th>\n",
       "      <th>Other</th>\n",
       "    </tr>\n",
       "    <tr>\n",
       "      <th>Sex</th>\n",
       "      <th></th>\n",
       "      <th></th>\n",
       "      <th></th>\n",
       "      <th></th>\n",
       "      <th></th>\n",
       "    </tr>\n",
       "  </thead>\n",
       "  <tbody>\n",
       "    <tr>\n",
       "      <th>female</th>\n",
       "      <td>0</td>\n",
       "      <td>264</td>\n",
       "      <td>0</td>\n",
       "      <td>198</td>\n",
       "      <td>4</td>\n",
       "    </tr>\n",
       "    <tr>\n",
       "      <th>male</th>\n",
       "      <td>61</td>\n",
       "      <td>0</td>\n",
       "      <td>757</td>\n",
       "      <td>0</td>\n",
       "      <td>25</td>\n",
       "    </tr>\n",
       "  </tbody>\n",
       "</table>\n",
       "</div>"
      ],
      "text/plain": [
       "TitleCat  Master  Miss   Mr  Mrs  Other\n",
       "Sex                                    \n",
       "female         0   264    0  198      4\n",
       "male          61     0  757    0     25"
      ]
     },
     "execution_count": 29,
     "metadata": {},
     "output_type": "execute_result"
    }
   ],
   "source": [
    "# Titleをカテゴリ変換\n",
    "# 数の少ない(1桁)TitleをOtherにまとめる\n",
    "# Mlle(マドモワゼル)⇒Miss, Mme(マダム)⇒Mrs, Ms⇒Miss\n",
    "title_dict = {\n",
    "    'Capt': 'Other', 'Col': 'Other', 'Countess': 'Other', 'Don': 'Other', 'Dona': 'Other', 'Dr': 'Other',\n",
    "    'Jonkheer': 'Other', 'Lady': 'Other', 'Major': 'Other', 'Master': 'Master', 'Miss': 'Miss',\n",
    "    'Mlle': 'Miss', 'Mme': 'Mrs', 'Mr': 'Mr', 'Mrs': 'Mrs', 'Ms': 'Miss', 'Rev': 'Other', 'Sir': 'Other'}\n",
    "\n",
    "combined['TitleCat'] = combined.Title.map(title_dict)\n",
    "\n",
    "# TitleCatの男女構成  \n",
    "pd.crosstab(combined['Sex'], combined['TitleCat'])"
   ]
  },
  {
   "cell_type": "code",
   "execution_count": 30,
   "metadata": {
    "slideshow": {
     "slide_type": "subslide"
    }
   },
   "outputs": [
    {
     "data": {
      "text/plain": [
       "<seaborn.axisgrid.FacetGrid at 0x7efc26c7df28>"
      ]
     },
     "execution_count": 30,
     "metadata": {},
     "output_type": "execute_result"
    },
    {
     "data": {
      "image/png": "[encoded data removed]",
      "text/plain": [
       "<matplotlib.figure.Figure at 0x7efc26c7d278>"
      ]
     },
     "metadata": {},
     "output_type": "display_data"
    }
   ],
   "source": [
    "# TitleCatごとの生存率\n",
    "sns.factorplot(data=combined[:891], x='TitleCat', y='Survived', kind='bar', size=5)"
   ]
  },
  {
   "cell_type": "code",
   "execution_count": 31,
   "metadata": {
    "collapsed": true,
    "slideshow": {
     "slide_type": "subslide"
    }
   },
   "outputs": [],
   "source": [
    "# Otherは数が少なく、ばらつきも大きいので、性別に応じてMr/Mrsに振り分ける\n",
    "combined.loc[(combined.TitleCat == 'Other') & (combined.Sex == 'male'), 'TitleCat'] = 'Mr'\n",
    "combined.loc[(combined.TitleCat == 'Other') & (combined.Sex == 'female'), 'TitleCat'] = 'Mrs'\n",
    "\n",
    "# ダミーに変換、特徴リストに追加\n",
    "combined = pd.concat([combined, pd.get_dummies(combined['TitleCat'], prefix='TitleCat')], axis=1)\n",
    "features.extend(['TitleCat_Mr', 'TitleCat_Mrs', 'TitleCat_Miss', 'TitleCat_Master'])"
   ]
  },
  {
   "cell_type": "code",
   "execution_count": 32,
   "metadata": {
    "slideshow": {
     "slide_type": "-"
    }
   },
   "outputs": [
    {
     "data": {
      "text/plain": [
       "<seaborn.axisgrid.FacetGrid at 0x7efc26c03b00>"
      ]
     },
     "execution_count": 32,
     "metadata": {},
     "output_type": "execute_result"
    },
    {
     "data": {
      "image/png": "[encoded data removed]",
      "text/plain": [
       "<matplotlib.figure.Figure at 0x7efc26c91ba8>"
      ]
     },
     "metadata": {},
     "output_type": "display_data"
    }
   ],
   "source": [
    "# TitleCatごとの生存率\n",
    "sns.factorplot(data=combined[:891], x='TitleCat', y='Survived', kind='bar', size=5)"
   ]
  },
  {
   "cell_type": "markdown",
   "metadata": {
    "slideshow": {
     "slide_type": "slide"
    }
   },
   "source": [
    "### NameLength"
   ]
  },
  {
   "cell_type": "code",
   "execution_count": 33,
   "metadata": {
    "collapsed": true,
    "slideshow": {
     "slide_type": "-"
    }
   },
   "outputs": [],
   "source": [
    "# NameLength\n",
    "combined['NameLength'] = combined['Name'].apply(lambda x: len(x))\n",
    "features.append('NameLength')"
   ]
  },
  {
   "cell_type": "code",
   "execution_count": 34,
   "metadata": {
    "slideshow": {
     "slide_type": "-"
    }
   },
   "outputs": [
    {
     "data": {
      "text/plain": [
       "<matplotlib.legend.Legend at 0x7efc26b325c0>"
      ]
     },
     "execution_count": 34,
     "metadata": {},
     "output_type": "execute_result"
    },
    {
     "data": {
      "image/png": "[encoded data removed]",
      "text/plain": [
       "<matplotlib.figure.Figure at 0x7efc26b42048>"
      ]
     },
     "metadata": {},
     "output_type": "display_data"
    }
   ],
   "source": [
    "# NameLengthとSurvivedの関係を積上げヒストグラムで可視化\n",
    "data = combined[:891]\n",
    "fig = plt.figure(figsize=(10,4))\n",
    "plt.hist([data[data['Survived']==1]['NameLength'], data[data['Survived']==0]['NameLength']],\n",
    "         stacked=True, bins=15, label=['Survived', 'Dead'], rwidth=0.8, color=['g', 'r'])\n",
    "plt.xlabel('NameLength')\n",
    "plt.ylabel('Number of passengers')\n",
    "plt.legend()"
   ]
  },
  {
   "cell_type": "markdown",
   "metadata": {
    "slideshow": {
     "slide_type": "slide"
    }
   },
   "source": [
    "## Cabin\n",
    "- 欠損が多い \n",
    "    - 欠損データ数:1014 / 全データ数:1309\n",
    "    - 対応をどうするかは、データを見て決める\n",
    "- Cabin番号のフォーマット\n",
    "    - アルファベット1文字＋数字"
   ]
  },
  {
   "cell_type": "code",
   "execution_count": 35,
   "metadata": {
    "slideshow": {
     "slide_type": "subslide"
    }
   },
   "outputs": [
    {
     "data": {
      "text/html": [
       "<div>\n",
       "<style>\n",
       "    .dataframe thead tr:only-child th {\n",
       "        text-align: right;\n",
       "    }\n",
       "\n",
       "    .dataframe thead th {\n",
       "        text-align: left;\n",
       "    }\n",
       "\n",
       "    .dataframe tbody tr th {\n",
       "        vertical-align: top;\n",
       "    }\n",
       "</style>\n",
       "<table border=\"1\" class=\"dataframe\">\n",
       "  <thead>\n",
       "    <tr style=\"text-align: right;\">\n",
       "      <th></th>\n",
       "      <th>A</th>\n",
       "      <th>B</th>\n",
       "      <th>C</th>\n",
       "      <th>D</th>\n",
       "      <th>E</th>\n",
       "      <th>F</th>\n",
       "      <th>G</th>\n",
       "      <th>T</th>\n",
       "      <th>nan</th>\n",
       "    </tr>\n",
       "  </thead>\n",
       "  <tbody>\n",
       "    <tr>\n",
       "      <th>Cabin</th>\n",
       "      <td>22</td>\n",
       "      <td>65</td>\n",
       "      <td>94</td>\n",
       "      <td>46</td>\n",
       "      <td>41</td>\n",
       "      <td>21</td>\n",
       "      <td>5</td>\n",
       "      <td>1</td>\n",
       "      <td>1014</td>\n",
       "    </tr>\n",
       "  </tbody>\n",
       "</table>\n",
       "</div>"
      ],
      "text/plain": [
       "        A   B   C   D   E   F  G  T   NaN\n",
       "Cabin  22  65  94  46  41  21  5  1  1014"
      ]
     },
     "execution_count": 35,
     "metadata": {},
     "output_type": "execute_result"
    }
   ],
   "source": [
    "# Cabinの頭文字を確認\n",
    "pd.DataFrame(combined.Cabin.str[0].value_counts(dropna=False).sort_index()).T"
   ]
  },
  {
   "cell_type": "code",
   "execution_count": 36,
   "metadata": {
    "slideshow": {
     "slide_type": "-"
    }
   },
   "outputs": [
    {
     "data": {
      "text/html": [
       "<div>\n",
       "<style>\n",
       "    .dataframe thead tr:only-child th {\n",
       "        text-align: right;\n",
       "    }\n",
       "\n",
       "    .dataframe thead th {\n",
       "        text-align: left;\n",
       "    }\n",
       "\n",
       "    .dataframe tbody tr th {\n",
       "        vertical-align: top;\n",
       "    }\n",
       "</style>\n",
       "<table border=\"1\" class=\"dataframe\">\n",
       "  <thead>\n",
       "    <tr style=\"text-align: right;\">\n",
       "      <th></th>\n",
       "      <th>A</th>\n",
       "      <th>B</th>\n",
       "      <th>C</th>\n",
       "      <th>D</th>\n",
       "      <th>E</th>\n",
       "      <th>F</th>\n",
       "      <th>G</th>\n",
       "      <th>T</th>\n",
       "      <th>Z</th>\n",
       "    </tr>\n",
       "  </thead>\n",
       "  <tbody>\n",
       "    <tr>\n",
       "      <th>Cabin</th>\n",
       "      <td>22</td>\n",
       "      <td>65</td>\n",
       "      <td>94</td>\n",
       "      <td>46</td>\n",
       "      <td>41</td>\n",
       "      <td>21</td>\n",
       "      <td>5</td>\n",
       "      <td>1</td>\n",
       "      <td>1014</td>\n",
       "    </tr>\n",
       "  </tbody>\n",
       "</table>\n",
       "</div>"
      ],
      "text/plain": [
       "        A   B   C   D   E   F  G  T     Z\n",
       "Cabin  22  65  94  46  41  21  5  1  1014"
      ]
     },
     "execution_count": 36,
     "metadata": {},
     "output_type": "execute_result"
    }
   ],
   "source": [
    "# NaNをZにする\n",
    "combined['Cabin'] = combined.Cabin.fillna('Z')\n",
    "pd.DataFrame(combined.Cabin.str[0].value_counts(dropna=False).sort_index()).T"
   ]
  },
  {
   "cell_type": "code",
   "execution_count": 37,
   "metadata": {
    "slideshow": {
     "slide_type": "subslide"
    }
   },
   "outputs": [
    {
     "data": {
      "text/plain": [
       "<seaborn.axisgrid.FacetGrid at 0x7efc26aea588>"
      ]
     },
     "execution_count": 37,
     "metadata": {},
     "output_type": "execute_result"
    },
    {
     "data": {
      "image/png": "[encoded data removed]",
      "text/plain": [
       "<matplotlib.figure.Figure at 0x7efc26a5f240>"
      ]
     },
     "metadata": {},
     "output_type": "display_data"
    }
   ],
   "source": [
    "# CabinCat=Cabinの先頭文字\n",
    "combined['CabinCat'] = combined['Cabin'].str[0]\n",
    "\n",
    "# CabinCatごとの生存率\n",
    "sns.factorplot(data=combined[:891], x='CabinCat', y='Survived', kind='bar', size=5)"
   ]
  },
  {
   "cell_type": "markdown",
   "metadata": {
    "slideshow": {
     "slide_type": "fragment"
    }
   },
   "source": [
    "- B, D, E については、生存率は高いと言えそう\n",
    "- A, F, G, T は、度数が少なく、ばらつきも大きいので、なんとも言えない\n",
    "- Cabinが不明(Z)だと生存率が低いということは言えそう"
   ]
  },
  {
   "cell_type": "code",
   "execution_count": 38,
   "metadata": {
    "slideshow": {
     "slide_type": "subslide"
    }
   },
   "outputs": [
    {
     "data": {
      "text/plain": [
       "<seaborn.axisgrid.FacetGrid at 0x7efc26979cf8>"
      ]
     },
     "execution_count": 38,
     "metadata": {},
     "output_type": "execute_result"
    },
    {
     "data": {
      "image/png": "[encoded data removed]",
      "text/plain": [
       "<matplotlib.figure.Figure at 0x7efc26979d68>"
      ]
     },
     "metadata": {},
     "output_type": "display_data"
    }
   ],
   "source": [
    "# Cabinの数字部分：偶数/奇数が右舷/左舷に該当していた\n",
    "import re\n",
    "\n",
    "def get_type(cabin):\n",
    "    cabin_search = re.search('\\d+', cabin)\n",
    "    if cabin_search:\n",
    "        num = cabin_search.group(0)\n",
    "        if int(num) % 2 == 0:\n",
    "            return 2\n",
    "        else:\n",
    "            return 1\n",
    "    return 0\n",
    "\n",
    "combined['CabinType'] = combined['Cabin'].apply(get_type)\n",
    "\n",
    "# CabinTypeごとの生存率\n",
    "sns.factorplot(data=combined[:891], x='Survived', y='CabinType', kind='bar', orient='h', size=2.2, aspect=4)"
   ]
  },
  {
   "cell_type": "markdown",
   "metadata": {
    "slideshow": {
     "slide_type": "fragment"
    }
   },
   "source": [
    "- 奇数番号の客室のほうが若干生存率が良い"
   ]
  },
  {
   "cell_type": "markdown",
   "metadata": {
    "slideshow": {
     "slide_type": "subslide"
    }
   },
   "source": [
    "### CabinCatもCabinTypeも特徴量としておく\n",
    "- Survibedとの関連はありそう\n",
    "- あとで除外することもできる"
   ]
  },
  {
   "cell_type": "code",
   "execution_count": 39,
   "metadata": {
    "collapsed": true,
    "slideshow": {
     "slide_type": "-"
    }
   },
   "outputs": [],
   "source": [
    "# ダミー変数化、特徴リストへ追加\n",
    "combined = pd.concat([combined, pd.get_dummies(combined['CabinCat'], prefix='CabinCat')], axis=1)\n",
    "features.extend(['CabinCat_A', 'CabinCat_B', 'CabinCat_C', 'CabinCat_D',\n",
    "                       'CabinCat_E', 'CabinCat_F', 'CabinCat_G', 'CabinCat_T', 'CabinCat_Z'])\n",
    "combined = pd.concat([combined, pd.get_dummies(combined['CabinType'], prefix='CabinType')], axis=1)\n",
    "features.extend(['CabinType_0', 'CabinType_1', 'CabinType_2'])"
   ]
  },
  {
   "cell_type": "markdown",
   "metadata": {
    "slideshow": {
     "slide_type": "slide"
    }
   },
   "source": [
    "## Age\n",
    "- 欠損が多い\n",
    "    - 欠損データ数:263 / 全データ数:1309\n",
    "- 年齢は重要な要素と思われるので補完したい"
   ]
  },
  {
   "cell_type": "code",
   "execution_count": 40,
   "metadata": {
    "slideshow": {
     "slide_type": "subslide"
    }
   },
   "outputs": [
    {
     "data": {
      "text/html": [
       "<div>\n",
       "<style>\n",
       "    .dataframe thead tr:only-child th {\n",
       "        text-align: right;\n",
       "    }\n",
       "\n",
       "    .dataframe thead th {\n",
       "        text-align: left;\n",
       "    }\n",
       "\n",
       "    .dataframe tbody tr th {\n",
       "        vertical-align: top;\n",
       "    }\n",
       "</style>\n",
       "<table border=\"1\" class=\"dataframe\">\n",
       "  <thead>\n",
       "    <tr style=\"text-align: right;\">\n",
       "      <th></th>\n",
       "      <th>count</th>\n",
       "      <th>mean</th>\n",
       "      <th>std</th>\n",
       "      <th>min</th>\n",
       "      <th>25%</th>\n",
       "      <th>50%</th>\n",
       "      <th>75%</th>\n",
       "      <th>max</th>\n",
       "    </tr>\n",
       "  </thead>\n",
       "  <tbody>\n",
       "    <tr>\n",
       "      <th>Age</th>\n",
       "      <td>1046.0</td>\n",
       "      <td>29.881138</td>\n",
       "      <td>14.413493</td>\n",
       "      <td>0.17</td>\n",
       "      <td>21.0</td>\n",
       "      <td>28.0</td>\n",
       "      <td>39.0</td>\n",
       "      <td>80.0</td>\n",
       "    </tr>\n",
       "  </tbody>\n",
       "</table>\n",
       "</div>"
      ],
      "text/plain": [
       "      count       mean        std   min   25%   50%   75%   max\n",
       "Age  1046.0  29.881138  14.413493  0.17  21.0  28.0  39.0  80.0"
      ]
     },
     "metadata": {},
     "output_type": "display_data"
    },
    {
     "data": {
      "text/plain": [
       "<matplotlib.axes._subplots.AxesSubplot at 0x7efc2683bcc0>"
      ]
     },
     "execution_count": 40,
     "metadata": {},
     "output_type": "execute_result"
    },
    {
     "data": {
      "image/png": "[encoded data removed]",
      "text/plain": [
       "<matplotlib.figure.Figure at 0x7efc26ebc3c8>"
      ]
     },
     "metadata": {},
     "output_type": "display_data"
    }
   ],
   "source": [
    "# 欠損補完前のAgeの分布を確認する\n",
    "age_before = pd.DataFrame(combined.describe().Age)\n",
    "display(age_before.T)\n",
    "plt.figure(figsize=(10,5))\n",
    "sns.distplot(combined.loc[combined.Age.notnull(), 'Age'], kde=False, norm_hist=False, hist_kws={'rwidth':0.9})"
   ]
  },
  {
   "cell_type": "code",
   "execution_count": 41,
   "metadata": {
    "slideshow": {
     "slide_type": "subslide"
    }
   },
   "outputs": [
    {
     "data": {
      "text/html": [
       "<div>\n",
       "<style>\n",
       "    .dataframe thead tr:only-child th {\n",
       "        text-align: right;\n",
       "    }\n",
       "\n",
       "    .dataframe thead th {\n",
       "        text-align: left;\n",
       "    }\n",
       "\n",
       "    .dataframe tbody tr th {\n",
       "        vertical-align: top;\n",
       "    }\n",
       "</style>\n",
       "<table border=\"1\" class=\"dataframe\">\n",
       "  <thead>\n",
       "    <tr style=\"text-align: right;\">\n",
       "      <th></th>\n",
       "      <th>Age</th>\n",
       "    </tr>\n",
       "  </thead>\n",
       "  <tbody>\n",
       "    <tr>\n",
       "      <th>Pclass</th>\n",
       "      <td>-0.408106</td>\n",
       "    </tr>\n",
       "    <tr>\n",
       "      <th>TitleCat_Master</th>\n",
       "      <td>-0.391259</td>\n",
       "    </tr>\n",
       "    <tr>\n",
       "      <th>Pclass_3</th>\n",
       "      <td>-0.337069</td>\n",
       "    </tr>\n",
       "    <tr>\n",
       "      <th>CabinType_0</th>\n",
       "      <td>-0.290117</td>\n",
       "    </tr>\n",
       "    <tr>\n",
       "      <th>CabinCat_Z</th>\n",
       "      <td>-0.289740</td>\n",
       "    </tr>\n",
       "    <tr>\n",
       "      <th>TitleCat_Miss</th>\n",
       "      <td>-0.282792</td>\n",
       "    </tr>\n",
       "    <tr>\n",
       "      <th>SibSp</th>\n",
       "      <td>-0.243699</td>\n",
       "    </tr>\n",
       "    <tr>\n",
       "      <th>TitleCat_Mrs</th>\n",
       "      <td>0.222737</td>\n",
       "    </tr>\n",
       "    <tr>\n",
       "      <th>CabinType_1</th>\n",
       "      <td>0.226970</td>\n",
       "    </tr>\n",
       "    <tr>\n",
       "      <th>TitleCat_Mr</th>\n",
       "      <td>0.236030</td>\n",
       "    </tr>\n",
       "    <tr>\n",
       "      <th>CabinType</th>\n",
       "      <td>0.251587</td>\n",
       "    </tr>\n",
       "    <tr>\n",
       "      <th>Pclass_1</th>\n",
       "      <td>0.393198</td>\n",
       "    </tr>\n",
       "    <tr>\n",
       "      <th>Age</th>\n",
       "      <td>1.000000</td>\n",
       "    </tr>\n",
       "  </tbody>\n",
       "</table>\n",
       "</div>"
      ],
      "text/plain": [
       "                      Age\n",
       "Pclass          -0.408106\n",
       "TitleCat_Master -0.391259\n",
       "Pclass_3        -0.337069\n",
       "CabinType_0     -0.290117\n",
       "CabinCat_Z      -0.289740\n",
       "TitleCat_Miss   -0.282792\n",
       "SibSp           -0.243699\n",
       "TitleCat_Mrs     0.222737\n",
       "CabinType_1      0.226970\n",
       "TitleCat_Mr      0.236030\n",
       "CabinType        0.251587\n",
       "Pclass_1         0.393198\n",
       "Age              1.000000"
      ]
     },
     "execution_count": 41,
     "metadata": {},
     "output_type": "execute_result"
    }
   ],
   "source": [
    "# 欠損値を推定するのに有用な特徴量を見定めるため、\n",
    "# Ageとの相関係数を確認する\n",
    "age_corr = combined[combined.Age.notnull()].corr().Age\n",
    "age_corr_df = pd.DataFrame(age_corr)\n",
    "\n",
    "# 相関係数の絶対値 > 0.2を表示\n",
    "age_corr_df[(age_corr_df.Age < -0.2) | (age_corr_df.Age > 0.2)].sort_values(by='Age')"
   ]
  },
  {
   "cell_type": "code",
   "execution_count": 42,
   "metadata": {
    "collapsed": true,
    "slideshow": {
     "slide_type": "subslide"
    }
   },
   "outputs": [],
   "source": [
    "# ExtraTreesRegressorで年齢を推定する\n",
    "from sklearn.ensemble import ExtraTreesRegressor\n",
    "\n",
    "etr = ExtraTreesRegressor(n_estimators=200, random_state=0)\n",
    "\n",
    "# 相関係数の絶対値>0.2の特徴量を使用して推定する\n",
    "estimate_features = ['TitleCat_Master', 'Pclass_3', 'CabinType_0', 'CabinCat_Z', 'TitleCat_Miss', 'SibSp',\n",
    "                    'Pclass_1', 'TitleCat_Mr', 'CabinType_1', 'TitleCat_Mrs']\n",
    "# 教師データ\n",
    "X_train = combined.loc[combined.Age.notnull(), estimate_features]\n",
    "Y_train = combined.Age.dropna()\n",
    "\n",
    "# テストデータ\n",
    "X_test = combined.loc[combined.Age.isnull(), estimate_features]\n",
    "\n",
    "# 学習\n",
    "etr.fit(X_train, Y_train)\n",
    "\n",
    "# 推定\n",
    "pred = etr.predict(X_test)\n",
    "\n",
    "# 推定値で欠損値を補完\n",
    "combined.loc[combined.Age.isnull(), 'Age'] = pred\n",
    "\n",
    "# 特徴リストに追加\n",
    "features.append('Age')"
   ]
  },
  {
   "cell_type": "code",
   "execution_count": 43,
   "metadata": {
    "slideshow": {
     "slide_type": "subslide"
    }
   },
   "outputs": [
    {
     "name": "stdout",
     "output_type": "stream",
     "text": [
      "after completing\n"
     ]
    },
    {
     "data": {
      "text/html": [
       "<div>\n",
       "<style>\n",
       "    .dataframe thead tr:only-child th {\n",
       "        text-align: right;\n",
       "    }\n",
       "\n",
       "    .dataframe thead th {\n",
       "        text-align: left;\n",
       "    }\n",
       "\n",
       "    .dataframe tbody tr th {\n",
       "        vertical-align: top;\n",
       "    }\n",
       "</style>\n",
       "<table border=\"1\" class=\"dataframe\">\n",
       "  <thead>\n",
       "    <tr style=\"text-align: right;\">\n",
       "      <th></th>\n",
       "      <th>count</th>\n",
       "      <th>mean</th>\n",
       "      <th>std</th>\n",
       "      <th>min</th>\n",
       "      <th>25%</th>\n",
       "      <th>50%</th>\n",
       "      <th>75%</th>\n",
       "      <th>max</th>\n",
       "    </tr>\n",
       "  </thead>\n",
       "  <tbody>\n",
       "    <tr>\n",
       "      <th>Age</th>\n",
       "      <td>1309.0</td>\n",
       "      <td>29.54574</td>\n",
       "      <td>13.482821</td>\n",
       "      <td>0.17</td>\n",
       "      <td>21.257576</td>\n",
       "      <td>28.741176</td>\n",
       "      <td>36.5</td>\n",
       "      <td>80.0</td>\n",
       "    </tr>\n",
       "  </tbody>\n",
       "</table>\n",
       "</div>"
      ],
      "text/plain": [
       "      count      mean        std   min        25%        50%   75%   max\n",
       "Age  1309.0  29.54574  13.482821  0.17  21.257576  28.741176  36.5  80.0"
      ]
     },
     "metadata": {},
     "output_type": "display_data"
    },
    {
     "name": "stdout",
     "output_type": "stream",
     "text": [
      "--------------------------------------------------\n",
      "before completing\n"
     ]
    },
    {
     "data": {
      "text/html": [
       "<div>\n",
       "<style>\n",
       "    .dataframe thead tr:only-child th {\n",
       "        text-align: right;\n",
       "    }\n",
       "\n",
       "    .dataframe thead th {\n",
       "        text-align: left;\n",
       "    }\n",
       "\n",
       "    .dataframe tbody tr th {\n",
       "        vertical-align: top;\n",
       "    }\n",
       "</style>\n",
       "<table border=\"1\" class=\"dataframe\">\n",
       "  <thead>\n",
       "    <tr style=\"text-align: right;\">\n",
       "      <th></th>\n",
       "      <th>count</th>\n",
       "      <th>mean</th>\n",
       "      <th>std</th>\n",
       "      <th>min</th>\n",
       "      <th>25%</th>\n",
       "      <th>50%</th>\n",
       "      <th>75%</th>\n",
       "      <th>max</th>\n",
       "    </tr>\n",
       "  </thead>\n",
       "  <tbody>\n",
       "    <tr>\n",
       "      <th>Age</th>\n",
       "      <td>1046.0</td>\n",
       "      <td>29.881138</td>\n",
       "      <td>14.413493</td>\n",
       "      <td>0.17</td>\n",
       "      <td>21.0</td>\n",
       "      <td>28.0</td>\n",
       "      <td>39.0</td>\n",
       "      <td>80.0</td>\n",
       "    </tr>\n",
       "  </tbody>\n",
       "</table>\n",
       "</div>"
      ],
      "text/plain": [
       "      count       mean        std   min   25%   50%   75%   max\n",
       "Age  1046.0  29.881138  14.413493  0.17  21.0  28.0  39.0  80.0"
      ]
     },
     "metadata": {},
     "output_type": "display_data"
    }
   ],
   "source": [
    "# 欠損補完後のAgeの分布\n",
    "print(\"after completing\")\n",
    "display(pd.DataFrame(combined.describe().Age).T)\n",
    "print(\"-\" * 50)\n",
    "print(\"before completing\")\n",
    "display(age_before.T)"
   ]
  },
  {
   "cell_type": "markdown",
   "metadata": {
    "slideshow": {
     "slide_type": "fragment"
    }
   },
   "source": [
    "- 平均値や標準偏差等、大きく変わらないように補完できている"
   ]
  },
  {
   "cell_type": "code",
   "execution_count": 44,
   "metadata": {
    "slideshow": {
     "slide_type": "subslide"
    }
   },
   "outputs": [
    {
     "data": {
      "text/plain": [
       "<matplotlib.axes._subplots.AxesSubplot at 0x7efc26e26550>"
      ]
     },
     "execution_count": 44,
     "metadata": {},
     "output_type": "execute_result"
    },
    {
     "data": {
      "image/png": "[encoded data removed]",
      "text/plain": [
       "<matplotlib.figure.Figure at 0x7efc26826c50>"
      ]
     },
     "metadata": {},
     "output_type": "display_data"
    }
   ],
   "source": [
    "# 欠損補完後のAgeの分布\n",
    "plt.figure(figsize=(10,5))\n",
    "sns.distplot(combined['Age'], kde=False, norm_hist=False, hist_kws={'rwidth':0.9})"
   ]
  },
  {
   "cell_type": "markdown",
   "metadata": {
    "slideshow": {
     "slide_type": "fragment"
    }
   },
   "source": [
    "- 分布の形状も、補完前と大きくは変わっていない"
   ]
  },
  {
   "cell_type": "code",
   "execution_count": 45,
   "metadata": {
    "slideshow": {
     "slide_type": "subslide"
    }
   },
   "outputs": [
    {
     "data": {
      "text/plain": [
       "<seaborn.axisgrid.FacetGrid at 0x7efc23bd4d30>"
      ]
     },
     "execution_count": 45,
     "metadata": {},
     "output_type": "execute_result"
    },
    {
     "data": {
      "image/png": "[encoded data removed]",
      "text/plain": [
       "<matplotlib.figure.Figure at 0x7efc23b6c9b0>"
      ]
     },
     "metadata": {},
     "output_type": "display_data"
    }
   ],
   "source": [
    "# 年齢、性別による生存率\n",
    "grid = sns.FacetGrid(combined[0:891], col='Survived', row='Sex', size=2.5, aspect=2.5)\n",
    "grid.map(sns.distplot, 'Age', kde=False, norm_hist=False, hist_kws={'rwidth':0.9}, bins=20)"
   ]
  },
  {
   "cell_type": "markdown",
   "metadata": {
    "slideshow": {
     "slide_type": "fragment"
    }
   },
   "source": [
    "- 10代後半以上の男性の生存率はかなり低い\n",
    "- 女性はどの年代でも生存率は高め\n",
    "- 10代前半以下では男女の差はあまりない"
   ]
  },
  {
   "cell_type": "markdown",
   "metadata": {
    "slideshow": {
     "slide_type": "slide"
    }
   },
   "source": [
    "## person\n",
    "- child / male_adult / female_adult に分類する\n",
    "  - 子供は男女差が小さいため"
   ]
  },
  {
   "cell_type": "code",
   "execution_count": 46,
   "metadata": {
    "slideshow": {
     "slide_type": "-"
    }
   },
   "outputs": [
    {
     "data": {
      "text/html": [
       "<div>\n",
       "<style>\n",
       "    .dataframe thead tr:only-child th {\n",
       "        text-align: right;\n",
       "    }\n",
       "\n",
       "    .dataframe thead th {\n",
       "        text-align: left;\n",
       "    }\n",
       "\n",
       "    .dataframe tbody tr th {\n",
       "        vertical-align: top;\n",
       "    }\n",
       "</style>\n",
       "<table border=\"1\" class=\"dataframe\">\n",
       "  <thead>\n",
       "    <tr style=\"text-align: right;\">\n",
       "      <th></th>\n",
       "      <th>Age</th>\n",
       "    </tr>\n",
       "  </thead>\n",
       "  <tbody>\n",
       "    <tr>\n",
       "      <th>1251</th>\n",
       "      <td>14.5</td>\n",
       "    </tr>\n",
       "    <tr>\n",
       "      <th>159</th>\n",
       "      <td>14.5</td>\n",
       "    </tr>\n",
       "    <tr>\n",
       "      <th>1283</th>\n",
       "      <td>13.0</td>\n",
       "    </tr>\n",
       "    <tr>\n",
       "      <th>1045</th>\n",
       "      <td>13.0</td>\n",
       "    </tr>\n",
       "    <tr>\n",
       "      <th>955</th>\n",
       "      <td>13.0</td>\n",
       "    </tr>\n",
       "  </tbody>\n",
       "</table>\n",
       "</div>"
      ],
      "text/plain": [
       "       Age\n",
       "1251  14.5\n",
       "159   14.5\n",
       "1283  13.0\n",
       "1045  13.0\n",
       "955   13.0"
      ]
     },
     "execution_count": 46,
     "metadata": {},
     "output_type": "execute_result"
    }
   ],
   "source": [
    "# 子供の年齢をいくつにするか？\n",
    "# Title=Masterの年齢を確認\n",
    "pd.DataFrame(combined.loc[combined.Title == 'Master', 'Age'].sort_values(ascending=False).head())"
   ]
  },
  {
   "cell_type": "code",
   "execution_count": 47,
   "metadata": {
    "slideshow": {
     "slide_type": "subslide"
    }
   },
   "outputs": [
    {
     "data": {
      "text/html": [
       "<div>\n",
       "<style>\n",
       "    .dataframe thead tr:only-child th {\n",
       "        text-align: right;\n",
       "    }\n",
       "\n",
       "    .dataframe thead th {\n",
       "        text-align: left;\n",
       "    }\n",
       "\n",
       "    .dataframe tbody tr th {\n",
       "        vertical-align: top;\n",
       "    }\n",
       "</style>\n",
       "<table border=\"1\" class=\"dataframe\">\n",
       "  <thead>\n",
       "    <tr style=\"text-align: right;\">\n",
       "      <th></th>\n",
       "      <th>Age</th>\n",
       "      <th>Sex</th>\n",
       "      <th>person</th>\n",
       "      <th>child</th>\n",
       "      <th>male_adult</th>\n",
       "      <th>female_adult</th>\n",
       "    </tr>\n",
       "  </thead>\n",
       "  <tbody>\n",
       "    <tr>\n",
       "      <th>0</th>\n",
       "      <td>22.0</td>\n",
       "      <td>male</td>\n",
       "      <td>male_adult</td>\n",
       "      <td>0</td>\n",
       "      <td>1</td>\n",
       "      <td>0</td>\n",
       "    </tr>\n",
       "    <tr>\n",
       "      <th>1</th>\n",
       "      <td>38.0</td>\n",
       "      <td>female</td>\n",
       "      <td>female_adult</td>\n",
       "      <td>0</td>\n",
       "      <td>0</td>\n",
       "      <td>1</td>\n",
       "    </tr>\n",
       "    <tr>\n",
       "      <th>2</th>\n",
       "      <td>26.0</td>\n",
       "      <td>female</td>\n",
       "      <td>female_adult</td>\n",
       "      <td>0</td>\n",
       "      <td>0</td>\n",
       "      <td>1</td>\n",
       "    </tr>\n",
       "    <tr>\n",
       "      <th>3</th>\n",
       "      <td>35.0</td>\n",
       "      <td>female</td>\n",
       "      <td>female_adult</td>\n",
       "      <td>0</td>\n",
       "      <td>0</td>\n",
       "      <td>1</td>\n",
       "    </tr>\n",
       "    <tr>\n",
       "      <th>4</th>\n",
       "      <td>35.0</td>\n",
       "      <td>male</td>\n",
       "      <td>male_adult</td>\n",
       "      <td>0</td>\n",
       "      <td>1</td>\n",
       "      <td>0</td>\n",
       "    </tr>\n",
       "  </tbody>\n",
       "</table>\n",
       "</div>"
      ],
      "text/plain": [
       "    Age     Sex        person  child  male_adult  female_adult\n",
       "0  22.0    male    male_adult      0           1             0\n",
       "1  38.0  female  female_adult      0           0             1\n",
       "2  26.0  female  female_adult      0           0             1\n",
       "3  35.0  female  female_adult      0           0             1\n",
       "4  35.0    male    male_adult      0           1             0"
      ]
     },
     "execution_count": 47,
     "metadata": {},
     "output_type": "execute_result"
    }
   ],
   "source": [
    "# 15歳未満を子供とする\n",
    "child_age = 15\n",
    "\n",
    "def get_person(passenger):\n",
    "    age, sex = passenger\n",
    "    if (age < child_age):\n",
    "        return 'child'\n",
    "    elif (sex == 'female' ):\n",
    "        return 'female_adult'\n",
    "    else:\n",
    "        return 'male_adult'\n",
    "\n",
    "#各行に対して関数を適用し、personの値を求める\n",
    "combined['person'] = combined[['Age', 'Sex']].apply(get_person, axis=1)\n",
    "\n",
    "# ダミー変数化\n",
    "combined = pd.concat([combined, pd.get_dummies(combined['person'])], axis=1)\n",
    "features.extend(['child', 'male_adult', 'female_adult'])\n",
    "combined[['Age', 'Sex', 'person', 'child', 'male_adult', 'female_adult']].head()"
   ]
  },
  {
   "cell_type": "code",
   "execution_count": 48,
   "metadata": {
    "slideshow": {
     "slide_type": "subslide"
    }
   },
   "outputs": [
    {
     "data": {
      "text/plain": [
       "<seaborn.axisgrid.FacetGrid at 0x7efc23792358>"
      ]
     },
     "execution_count": 48,
     "metadata": {},
     "output_type": "execute_result"
    },
    {
     "data": {
      "image/png": "[encoded data removed]",
      "text/plain": [
       "<matplotlib.figure.Figure at 0x7efc26cc1198>"
      ]
     },
     "metadata": {},
     "output_type": "display_data"
    }
   ],
   "source": [
    "# person の生存率\n",
    "sns.factorplot(data=combined[:891], x='person', y='Survived', kind='bar', size=5)"
   ]
  },
  {
   "cell_type": "markdown",
   "metadata": {
    "slideshow": {
     "slide_type": "fragment"
    }
   },
   "source": [
    "- 成人男性の生存率はかなり低い\n",
    "- 成人女性の生存率は高め\n",
    "- 子供の生存率は約50%"
   ]
  },
  {
   "cell_type": "markdown",
   "metadata": {
    "slideshow": {
     "slide_type": "slide"
    }
   },
   "source": [
    "## Ticket\n",
    "- 欠損なし\n",
    "- 重複のあるデータ\n",
    "    - 同じチケット番号＝同じグループ\n",
    "    - 同じグループには、家族も含まれている\n",
    "    - 緊急時には、グループ単位・家族単位で行動するはず"
   ]
  },
  {
   "cell_type": "code",
   "execution_count": 49,
   "metadata": {
    "slideshow": {
     "slide_type": "-"
    }
   },
   "outputs": [
    {
     "data": {
      "text/html": [
       "<div>\n",
       "<style>\n",
       "    .dataframe thead tr:only-child th {\n",
       "        text-align: right;\n",
       "    }\n",
       "\n",
       "    .dataframe thead th {\n",
       "        text-align: left;\n",
       "    }\n",
       "\n",
       "    .dataframe tbody tr th {\n",
       "        vertical-align: top;\n",
       "    }\n",
       "</style>\n",
       "<table border=\"1\" class=\"dataframe\">\n",
       "  <thead>\n",
       "    <tr style=\"text-align: right;\">\n",
       "      <th></th>\n",
       "      <th>TicketMembers</th>\n",
       "    </tr>\n",
       "  </thead>\n",
       "  <tbody>\n",
       "    <tr>\n",
       "      <th>CA. 2343</th>\n",
       "      <td>11</td>\n",
       "    </tr>\n",
       "    <tr>\n",
       "      <th>CA 2144</th>\n",
       "      <td>8</td>\n",
       "    </tr>\n",
       "    <tr>\n",
       "      <th>1601</th>\n",
       "      <td>8</td>\n",
       "    </tr>\n",
       "    <tr>\n",
       "      <th>347082</th>\n",
       "      <td>7</td>\n",
       "    </tr>\n",
       "    <tr>\n",
       "      <th>347077</th>\n",
       "      <td>7</td>\n",
       "    </tr>\n",
       "  </tbody>\n",
       "</table>\n",
       "</div>"
      ],
      "text/plain": [
       "          TicketMembers\n",
       "CA. 2343             11\n",
       "CA 2144               8\n",
       "1601                  8\n",
       "347082                7\n",
       "347077                7"
      ]
     },
     "execution_count": 49,
     "metadata": {},
     "output_type": "execute_result"
    }
   ],
   "source": [
    "# 同じチケット番号は同じグループとし、チケットごとに人数を集計\n",
    "ticket = pd.DataFrame(combined.Ticket.value_counts())\n",
    "\n",
    "# カラム名変更 Ticket -> TicketMembers\n",
    "ticket.rename(columns={'Ticket':'TicketMembers'}, inplace=True)\n",
    "ticket.head()"
   ]
  },
  {
   "cell_type": "code",
   "execution_count": 50,
   "metadata": {
    "slideshow": {
     "slide_type": "subslide"
    }
   },
   "outputs": [
    {
     "data": {
      "text/html": [
       "<div>\n",
       "<style>\n",
       "    .dataframe thead tr:only-child th {\n",
       "        text-align: right;\n",
       "    }\n",
       "\n",
       "    .dataframe thead th {\n",
       "        text-align: left;\n",
       "    }\n",
       "\n",
       "    .dataframe tbody tr th {\n",
       "        vertical-align: top;\n",
       "    }\n",
       "</style>\n",
       "<table border=\"1\" class=\"dataframe\">\n",
       "  <thead>\n",
       "    <tr style=\"text-align: right;\">\n",
       "      <th></th>\n",
       "      <th>1</th>\n",
       "      <th>2</th>\n",
       "      <th>3</th>\n",
       "      <th>4</th>\n",
       "      <th>5</th>\n",
       "      <th>7</th>\n",
       "      <th>6</th>\n",
       "      <th>8</th>\n",
       "      <th>11</th>\n",
       "    </tr>\n",
       "  </thead>\n",
       "  <tbody>\n",
       "    <tr>\n",
       "      <th>TicketMembers</th>\n",
       "      <td>713</td>\n",
       "      <td>132</td>\n",
       "      <td>49</td>\n",
       "      <td>16</td>\n",
       "      <td>7</td>\n",
       "      <td>5</td>\n",
       "      <td>4</td>\n",
       "      <td>2</td>\n",
       "      <td>1</td>\n",
       "    </tr>\n",
       "  </tbody>\n",
       "</table>\n",
       "</div>"
      ],
      "text/plain": [
       "                1    2   3   4   5   7   6   8   11\n",
       "TicketMembers  713  132  49  16   7   5   4   2   1"
      ]
     },
     "metadata": {},
     "output_type": "display_data"
    },
    {
     "data": {
      "text/plain": [
       "<matplotlib.axes._subplots.AxesSubplot at 0x7efc23728908>"
      ]
     },
     "execution_count": 50,
     "metadata": {},
     "output_type": "execute_result"
    },
    {
     "data": {
      "image/png": "[encoded data removed]",
      "text/plain": [
       "<matplotlib.figure.Figure at 0x7efc23728c18>"
      ]
     },
     "metadata": {},
     "output_type": "display_data"
    }
   ],
   "source": [
    "# TicketMembersごとの度数分布を確認する\n",
    "display(pd.DataFrame(ticket.TicketMembers.value_counts()).T)\n",
    "plt.figure(figsize=(10,5))\n",
    "sns.distplot(ticket.TicketMembers, kde=False, norm_hist=False, bins=11, hist_kws={'rwidth':0.9})"
   ]
  },
  {
   "cell_type": "code",
   "execution_count": 51,
   "metadata": {
    "collapsed": true,
    "slideshow": {
     "slide_type": "subslide"
    }
   },
   "outputs": [],
   "source": [
    "# チケットメンバーをいったんcombinedにマージ\n",
    "combined = pd.merge(combined, ticket, left_on='Ticket', right_index=True, how='left')\n",
    "\n",
    "# 同一チケットグループ(2名以上)で成人女性の死亡者有無をフラグ化\n",
    "# グループ内の成人女性が死亡していれば、他のメンバーも助かっていない確率が高いと想定\n",
    "ticket['Ticket_perishing_women'] = combined.Ticket[(combined.female_adult == 1)\n",
    "                                                   & (combined.Survived == 0.0)\n",
    "                                                   & (combined.TicketMembers > 1)].value_counts()\n",
    "ticket['Ticket_perishing_women'] = ticket['Ticket_perishing_women'].fillna(0)\n",
    "ticket.loc[ticket.Ticket_perishing_women > 0, 'Ticket_perishing_women'] = 1\n",
    "\n",
    "# 同一チケットグループ(2名以上)で成人男性の生存者有無をフラグ化\n",
    "# グループ内の成人男性が生存していれば、他のメンバーも助かっている確率が高いと想定\n",
    "ticket['Ticket_surviving_men'] = combined.Ticket[(combined.male_adult == 1)\n",
    "                                                 & (combined.Survived == 1.0)\n",
    "                                                 & (combined.TicketMembers > 1)].value_counts()\n",
    "ticket['Ticket_surviving_men'] = ticket['Ticket_surviving_men'].fillna(0)\n",
    "ticket.loc[ticket.Ticket_surviving_men > 0, 'Ticket_surviving_men'] = 1\n",
    "\n",
    "# TicketMembersをカテゴリ分類（FamilySizeと同様）\n",
    "ticket['TicketMembers'] = pd.cut(ticket['TicketMembers'], bins=[0,1,4,15], labels=[0,1,2])\n",
    "\n",
    "# combinedから、いったん追加したTicketMembersを削除\n",
    "combined.drop(['TicketMembers'], inplace=True, axis=1)\n",
    "\n",
    "# チケット関連データをマージ\n",
    "combined = pd.merge(combined, ticket, left_on='Ticket', right_index=True, how='left')\n",
    "\n",
    "# ダミー変数化、特徴リストに追加\n",
    "combined = pd.concat([combined, pd.get_dummies(combined.TicketMembers, prefix='TicketMembers')], axis=1)\n",
    "features.extend(['TicketMembers_0', 'TicketMembers_1', 'TicketMembers_2',\n",
    "                       'Ticket_perishing_women', 'Ticket_surviving_men'])"
   ]
  },
  {
   "cell_type": "code",
   "execution_count": 52,
   "metadata": {
    "slideshow": {
     "slide_type": "subslide"
    }
   },
   "outputs": [
    {
     "data": {
      "text/plain": [
       "<seaborn.axisgrid.FacetGrid at 0x7efc23792ba8>"
      ]
     },
     "execution_count": 52,
     "metadata": {},
     "output_type": "execute_result"
    },
    {
     "data": {
      "image/png": "[encoded data removed]",
      "text/plain": [
       "<matplotlib.figure.Figure at 0x7efc237056d8>"
      ]
     },
     "metadata": {},
     "output_type": "display_data"
    }
   ],
   "source": [
    "# 生存率\n",
    "sns.factorplot(data=combined, x='TicketMembers', y='Survived', kind='bar', size=5)"
   ]
  },
  {
   "cell_type": "markdown",
   "metadata": {
    "slideshow": {
     "slide_type": "subslide"
    }
   },
   "source": [
    "### 家族単位に、TIcketグループと同様の特徴量を求める"
   ]
  },
  {
   "cell_type": "code",
   "execution_count": 53,
   "metadata": {
    "slideshow": {
     "slide_type": "-"
    }
   },
   "outputs": [
    {
     "data": {
      "text/html": [
       "<div>\n",
       "<style>\n",
       "    .dataframe thead tr:only-child th {\n",
       "        text-align: right;\n",
       "    }\n",
       "\n",
       "    .dataframe thead th {\n",
       "        text-align: left;\n",
       "    }\n",
       "\n",
       "    .dataframe tbody tr th {\n",
       "        vertical-align: top;\n",
       "    }\n",
       "</style>\n",
       "<table border=\"1\" class=\"dataframe\">\n",
       "  <thead>\n",
       "    <tr style=\"text-align: right;\">\n",
       "      <th></th>\n",
       "      <th>SurnameMembers</th>\n",
       "    </tr>\n",
       "  </thead>\n",
       "  <tbody>\n",
       "    <tr>\n",
       "      <th>sage_CA. 2343</th>\n",
       "      <td>11</td>\n",
       "    </tr>\n",
       "    <tr>\n",
       "      <th>goodwin_CA 2144</th>\n",
       "      <td>8</td>\n",
       "    </tr>\n",
       "    <tr>\n",
       "      <th>andersson_347082</th>\n",
       "      <td>7</td>\n",
       "    </tr>\n",
       "    <tr>\n",
       "      <th>asplund_347077</th>\n",
       "      <td>7</td>\n",
       "    </tr>\n",
       "    <tr>\n",
       "      <th>skoog_347088</th>\n",
       "      <td>6</td>\n",
       "    </tr>\n",
       "  </tbody>\n",
       "</table>\n",
       "</div>"
      ],
      "text/plain": [
       "                  SurnameMembers\n",
       "sage_CA. 2343                 11\n",
       "goodwin_CA 2144                8\n",
       "andersson_347082               7\n",
       "asplund_347077                 7\n",
       "skoog_347088                   6"
      ]
     },
     "execution_count": 53,
     "metadata": {},
     "output_type": "execute_result"
    }
   ],
   "source": [
    "# 家族＝Surnameの処理\n",
    "# 同姓を区別するため、チケット番号をつける\n",
    "def get_surname(row):\n",
    "    name, ticket = row\n",
    "    surname = name.split(',')[0].lower()\n",
    "    return '{0}_{1}'.format(surname, ticket)\n",
    "\n",
    "combined['Surname'] = combined[['Name', 'Ticket']].apply(get_surname, axis=1)\n",
    "\n",
    "surname = pd.DataFrame(combined['Surname'].value_counts())\n",
    "surname.rename(columns={'Surname':'SurnameMembers'}, inplace=True)\n",
    "surname.head()"
   ]
  },
  {
   "cell_type": "code",
   "execution_count": 54,
   "metadata": {
    "slideshow": {
     "slide_type": "subslide"
    }
   },
   "outputs": [
    {
     "data": {
      "text/html": [
       "<div>\n",
       "<style>\n",
       "    .dataframe thead tr:only-child th {\n",
       "        text-align: right;\n",
       "    }\n",
       "\n",
       "    .dataframe thead th {\n",
       "        text-align: left;\n",
       "    }\n",
       "\n",
       "    .dataframe tbody tr th {\n",
       "        vertical-align: top;\n",
       "    }\n",
       "</style>\n",
       "<table border=\"1\" class=\"dataframe\">\n",
       "  <thead>\n",
       "    <tr style=\"text-align: right;\">\n",
       "      <th></th>\n",
       "      <th>1</th>\n",
       "      <th>2</th>\n",
       "      <th>3</th>\n",
       "      <th>4</th>\n",
       "      <th>6</th>\n",
       "      <th>5</th>\n",
       "      <th>7</th>\n",
       "      <th>11</th>\n",
       "      <th>8</th>\n",
       "    </tr>\n",
       "  </thead>\n",
       "  <tbody>\n",
       "    <tr>\n",
       "      <th>SurnameMembers</th>\n",
       "      <td>848</td>\n",
       "      <td>117</td>\n",
       "      <td>38</td>\n",
       "      <td>9</td>\n",
       "      <td>4</td>\n",
       "      <td>4</td>\n",
       "      <td>2</td>\n",
       "      <td>1</td>\n",
       "      <td>1</td>\n",
       "    </tr>\n",
       "  </tbody>\n",
       "</table>\n",
       "</div>"
      ],
      "text/plain": [
       "                 1    2   3   4   6   5   7   11  8 \n",
       "SurnameMembers  848  117  38   9   4   4   2   1   1"
      ]
     },
     "metadata": {},
     "output_type": "display_data"
    },
    {
     "data": {
      "text/plain": [
       "<matplotlib.axes._subplots.AxesSubplot at 0x7efc235a5e10>"
      ]
     },
     "execution_count": 54,
     "metadata": {},
     "output_type": "execute_result"
    },
    {
     "data": {
      "image/png": "[encoded data removed]",
      "text/plain": [
       "<matplotlib.figure.Figure at 0x7efc235a57f0>"
      ]
     },
     "metadata": {},
     "output_type": "display_data"
    }
   ],
   "source": [
    "# SurnameMembersごとの度数分布を確認する\n",
    "display(pd.DataFrame(surname.SurnameMembers.value_counts()).T)\n",
    "plt.figure(figsize=(10,5))\n",
    "sns.distplot(surname.SurnameMembers, kde=False, norm_hist=False, bins=11, hist_kws={'rwidth':0.9})"
   ]
  },
  {
   "cell_type": "code",
   "execution_count": 55,
   "metadata": {
    "collapsed": true,
    "slideshow": {
     "slide_type": "subslide"
    }
   },
   "outputs": [],
   "source": [
    "# Surnameメンバーをいったんcombinedにマージ\n",
    "combined = pd.merge(combined, surname, left_on='Surname', right_index=True, how='left')\n",
    "\n",
    "# 同一Surnameの家族(2名以上)内で成人女性の死亡者有無をフラグ化\n",
    "surname['Surname_perishing_women'] = combined.Surname[(combined.female_adult == 1)\n",
    "                                                  & (combined.Survived == 0.0)\n",
    "                                                  & (combined.SurnameMembers > 1)].value_counts()\n",
    "surname['Surname_perishing_women'] = surname['Surname_perishing_women'].fillna(0)\n",
    "surname.loc[surname.Surname_perishing_women > 0, 'Surname_perishing_women'] = 1\n",
    "\n",
    "# 同一Surnameの家族(2名以上)内で成人男性の生存者有無をフラグ化\n",
    "surname['Surname_surviving_men'] = combined.Surname[(combined.male_adult == 1)\n",
    "                                                  & (combined.Survived == 1.0)\n",
    "                                                  & (combined.SurnameMembers > 1)].value_counts()\n",
    "surname['Surname_surviving_men'] = surname['Surname_surviving_men'].fillna(0)\n",
    "surname.loc[surname.Surname_surviving_men > 0, 'Surname_surviving_men'] = 1\n",
    "\n",
    "# カテゴリ分類、FamilySizeと同様\n",
    "surname['SurnameMembers'] = pd.cut(surname['SurnameMembers'], bins=[0,1,4,15], labels=[0,1,2])\n",
    "\n",
    "# combinedから、いったん追加したSurnameMembersを削除\n",
    "combined.drop(['SurnameMembers'], inplace=True, axis=1)\n",
    "\n",
    "# マージ\n",
    "combined = pd.merge(combined, surname, left_on='Surname', right_index=True, how='left', sort=False)\n",
    "\n",
    "# ダミー変数化、特徴リストに追加\n",
    "combined = pd.concat([combined, pd.get_dummies(combined.SurnameMembers, prefix='SurnameMembers')], axis=1)\n",
    "features = features + ['SurnameMembers_0', 'SurnameMembers_1', 'SurnameMembers_2',\n",
    "                       'Surname_perishing_women', 'Surname_surviving_men']"
   ]
  },
  {
   "cell_type": "code",
   "execution_count": 56,
   "metadata": {
    "slideshow": {
     "slide_type": "subslide"
    }
   },
   "outputs": [
    {
     "data": {
      "text/plain": [
       "<seaborn.axisgrid.FacetGrid at 0x7efc235c4ba8>"
      ]
     },
     "execution_count": 56,
     "metadata": {},
     "output_type": "execute_result"
    },
    {
     "data": {
      "image/png": "[encoded data removed]",
      "text/plain": [
       "<matplotlib.figure.Figure at 0x7efc23463fd0>"
      ]
     },
     "metadata": {},
     "output_type": "display_data"
    }
   ],
   "source": [
    "# 生存率\n",
    "sns.factorplot(data=combined, x='SurnameMembers', y='Survived', kind='bar', size=5)"
   ]
  },
  {
   "cell_type": "markdown",
   "metadata": {
    "slideshow": {
     "slide_type": "slide"
    }
   },
   "source": [
    "# 機械学習で生存者を予測する"
   ]
  },
  {
   "cell_type": "markdown",
   "metadata": {
    "slideshow": {
     "slide_type": "slide"
    }
   },
   "source": [
    "## データセットを作成する"
   ]
  },
  {
   "cell_type": "code",
   "execution_count": 57,
   "metadata": {
    "slideshow": {
     "slide_type": "-"
    }
   },
   "outputs": [
    {
     "name": "stdout",
     "output_type": "stream",
     "text": [
      "number of features = 45\n"
     ]
    }
   ],
   "source": [
    "# トレーニングデータ、ターゲットデータ、テストデータを生成\n",
    "train = combined[0:891][features].copy()\n",
    "target = combined[0:891]['Survived'].copy()\n",
    "test = combined[891:][features].copy()\n",
    "\n",
    "# 特徴量の数(次元数)を確認する\n",
    "print('number of features = {}'.format(train.shape[1]))"
   ]
  },
  {
   "cell_type": "markdown",
   "metadata": {
    "slideshow": {
     "slide_type": "slide"
    }
   },
   "source": [
    "## 次元の呪い\n",
    "\n",
    "データの次元数(パラメータ数)が大きくなりすぎると、そのデータで表現できる組み合わせが飛躍的に多くなってしまい、手元にある有限なサンプルデータでは十分な学習結果が得られなくなる\n",
    "\n",
    "### 次元の呪いを回避するには？\n",
    "- 特徴選択\n",
    "    - 特徴量の中から必要なものを選ぶ\n",
    "- 次元削減\n",
    "    - 本来の情報量を維持したまま低次元データに変換する\n",
    "    - よく知られているのは、主成分分析(PCA)"
   ]
  },
  {
   "cell_type": "markdown",
   "metadata": {
    "slideshow": {
     "slide_type": "slide"
    }
   },
   "source": [
    "### ここでは特徴選択を行ってみる\n",
    "- SelectKBestを使用\n",
    "    - 各特徴量ごとに分類に対する寄与度を求めることができる"
   ]
  },
  {
   "cell_type": "code",
   "execution_count": 58,
   "metadata": {
    "slideshow": {
     "slide_type": "-"
    }
   },
   "outputs": [
    {
     "data": {
      "text/plain": [
       "SelectKBest(k='all', score_func=<function f_classif at 0x7efc233acd08>)"
      ]
     },
     "execution_count": 58,
     "metadata": {},
     "output_type": "execute_result"
    }
   ],
   "source": [
    "# 特徴量の分類に対する寄与度を調査する\n",
    "from sklearn.feature_selection import SelectKBest\n",
    "\n",
    "selector = SelectKBest(k='all')\n",
    "selector.fit(train, target)"
   ]
  },
  {
   "cell_type": "code",
   "execution_count": 59,
   "metadata": {
    "slideshow": {
     "slide_type": "subslide"
    }
   },
   "outputs": [
    {
     "data": {
      "text/plain": [
       "<matplotlib.axes._subplots.AxesSubplot at 0x7efc233887f0>"
      ]
     },
     "execution_count": 59,
     "metadata": {},
     "output_type": "execute_result"
    },
    {
     "data": {
      "image/png": "[encoded data removed]",
      "text/plain": [
       "<matplotlib.figure.Figure at 0x7efc23379f98>"
      ]
     },
     "metadata": {},
     "output_type": "display_data"
    }
   ],
   "source": [
    "# 寄与度の大きい特徴Top30をグラフ化\n",
    "importance = pd.DataFrame({'importance': selector.scores_}, index=features)\n",
    "importance.sort_values(by=['importance'], ascending=True, inplace=True)\n",
    "importance[importance.importance.notnull()].tail(30).plot(kind='barh', figsize=(9,9))"
   ]
  },
  {
   "cell_type": "code",
   "execution_count": 60,
   "metadata": {
    "slideshow": {
     "slide_type": "subslide"
    }
   },
   "outputs": [
    {
     "name": "stdout",
     "output_type": "stream",
     "text": [
      "features: ['CabinCat_B', 'SurnameMembers_0', 'FamilySize_0', 'Surname_perishing_women', 'Ticket_perishing_women', 'Surname_surviving_men', 'CabinType_1', 'TicketMembers_0', 'Fare', 'Ticket_surviving_men', 'SurnameMembers_1', 'FamilySize_1', 'Pclass_1', 'TicketMembers_1', 'CabinType_0', 'CabinCat_Z', 'Pclass_3', 'NameLength', 'TitleCat_Miss', 'TitleCat_Mrs', 'female_adult', 'male', 'female', 'male_adult', 'TitleCat_Mr']\n"
     ]
    }
   ],
   "source": [
    "# 上位の特徴を選択\n",
    "selected_features = importance[importance.importance.notnull()].tail(25).index.tolist()\n",
    "print('features: {}'.format(selected_features))"
   ]
  },
  {
   "cell_type": "raw",
   "metadata": {
    "slideshow": {
     "slide_type": "skip"
    }
   },
   "source": [
    "# Survivedとの相関\n",
    "survived_corr = combined[:890][['Survived'] + selected_features].corr()\n",
    "plt.figure(figsize=(12,8))\n",
    "sns.heatmap(survived_corr, annot=True, fmt='.2f')"
   ]
  },
  {
   "cell_type": "markdown",
   "metadata": {
    "slideshow": {
     "slide_type": "slide"
    }
   },
   "source": [
    "# 機械学習による分析\n",
    "\n",
    "### 1. トレーニングデータから機械学習分類器(モデル)を作成\n",
    "\n",
    "### 2. モデルの評価・パラメータチューニング\n",
    "\n",
    "### 3. 作成したモデルでテストデータを推定"
   ]
  },
  {
   "cell_type": "markdown",
   "metadata": {
    "slideshow": {
     "slide_type": "slide"
    }
   },
   "source": [
    "## 1. モデルの作成\n",
    "\n",
    "- 機械学習アルゴリズムを選択する\n",
    "    - 今回の問題では、クラス分類のアルゴリズムを使用する\n",
    "- scikit-learnのAPIは、どのアルゴリズムでも基本的なインタフェースは統一されている\n",
    "    - fit: トレーニングデータでモデルを学習させる\n",
    "    - predict: 学習したモデルでテストデータを分析・推定する\n",
    "    - transform: データを変換する"
   ]
  },
  {
   "cell_type": "markdown",
   "metadata": {
    "slideshow": {
     "slide_type": "slide"
    }
   },
   "source": [
    "## 2. モデルの評価・パラメータチューニング\n",
    "\n",
    "### クロスバリデーション（評価）\n",
    "- 分類器を評価するためには、学習用データとは異なるテストデータの分析結果の正解率を見るのが理想\n",
    "- しかし、テストデータには正解のラベルがない\n",
    "- ラベル付の学習データを、学習用とテスト用に分割して評価する\n",
    "    - K分割して、学習分とテスト分を入れ替えながらK回評価して、平均をとる\n",
    "\n",
    "### グリッドサーチ（パラメータチューニング）\n",
    "- パラメータの設定範囲を指定することで、最適なパラメータの組を探索する方法"
   ]
  },
  {
   "cell_type": "markdown",
   "metadata": {
    "slideshow": {
     "slide_type": "subslide"
    }
   },
   "source": [
    "### 参考：いろいろな評価指標\n",
    "FPR以外は、1に近いほど分類器の性能が良いといえる\n",
    "\n",
    "|指標|意味|計算式|\n",
    "|:---|:---|:---|\n",
    "|Accuracy|正解率。予測結果が実際の値とどれくらい一致しているか|(TP+TN) / (TP+FP+FN+TN)|\n",
    "|Precision|適合率。予測が真と判定したもので、実際の値が真のもの|TP / (TP+FP)|\n",
    "|Recall|再現率。実際の値が真のうち、予測が真のもの|TP / (TP+FN)|\n",
    "|F値|予測精度の評価指標。PrecisionとRecallの調和平均|(2 x Precision x Recall) / (Precision + Recall)|\n",
    "|TPR(True Positive Rate)|真陽性率。Recallと同じ|TP / (TP+FN)|\n",
    "|FPR(False Positive Rate)|偽陽性率。実際の値が偽のうち、予測が真のもの|FP / (FP+TN)|\n",
    "|ROC曲線|Receiver Operating Characteristic. 縦軸にTPR、横軸にFPRをプロット|-|\n",
    "|AUC|Area Under the Curve. ROC曲線の曲線より下側の面積。分類器の精度評価に使う。|-|"
   ]
  },
  {
   "cell_type": "markdown",
   "metadata": {
    "slideshow": {
     "slide_type": "subslide"
    }
   },
   "source": [
    "- TP/FP/TN/FN\n",
    "\n",
    "|-|実際の値=1|実際の値=0|\n",
    "|:---|:---|:---|\n",
    "|***予測値=1***|True Positive(TP)|False Positive(FP)|\n",
    "|***予測値=0***|False Negative(FN)|True Negative(TN)|"
   ]
  },
  {
   "cell_type": "code",
   "execution_count": 61,
   "metadata": {
    "collapsed": true,
    "slideshow": {
     "slide_type": "slide"
    }
   },
   "outputs": [],
   "source": [
    "# 分類器アルゴリズム(比較用も含む)\n",
    "from sklearn.ensemble import RandomForestClassifier, AdaBoostClassifier, GradientBoostingClassifier\n",
    "from sklearn.svm import SVC\n",
    "from sklearn.neighbors import KNeighborsClassifier\n",
    "from sklearn.naive_bayes import GaussianNB\n",
    "from sklearn.linear_model import LogisticRegression\n",
    "from sklearn.tree import DecisionTreeClassifier\n",
    "\n",
    "# クロスバリデーション/グリッドサーチ用\n",
    "from sklearn.model_selection import GridSearchCV, StratifiedKFold\n",
    "\n",
    "# 事前処理用(正規化、パイプライン処理)\n",
    "from sklearn.preprocessing import MinMaxScaler\n",
    "from sklearn.pipeline import Pipeline\n",
    "\n",
    "# クロスバリデーション用データ分割を定義\n",
    "cv_split = StratifiedKFold(n_splits=3, random_state=0)"
   ]
  },
  {
   "cell_type": "code",
   "execution_count": 62,
   "metadata": {
    "collapsed": true,
    "slideshow": {
     "slide_type": "slide"
    }
   },
   "outputs": [],
   "source": [
    "# アルゴリズムの比較対象\n",
    "# ハイパーパラメータは基本的にデフォルトで実施(乱数のみ固定化)\n",
    "classifiers = [\n",
    "    RandomForestClassifier(random_state=0, n_estimators=1000),\n",
    "    AdaBoostClassifier(random_state=0, n_estimators=1000),\n",
    "    GradientBoostingClassifier(random_state=0, n_estimators=1000),\n",
    "    SVC(random_state=0),\n",
    "    KNeighborsClassifier(),\n",
    "    GaussianNB(),\n",
    "    LogisticRegression(random_state=0),\n",
    "    DecisionTreeClassifier(random_state=0)\n",
    "]\n",
    "\n",
    "# 選択した特徴を使用する\n",
    "X_train = train[selected_features]"
   ]
  },
  {
   "cell_type": "code",
   "execution_count": 63,
   "metadata": {
    "slideshow": {
     "slide_type": "subslide"
    }
   },
   "outputs": [
    {
     "data": {
      "text/html": [
       "<div>\n",
       "<style>\n",
       "    .dataframe thead tr:only-child th {\n",
       "        text-align: right;\n",
       "    }\n",
       "\n",
       "    .dataframe thead th {\n",
       "        text-align: left;\n",
       "    }\n",
       "\n",
       "    .dataframe tbody tr th {\n",
       "        vertical-align: top;\n",
       "    }\n",
       "</style>\n",
       "<table border=\"1\" class=\"dataframe\">\n",
       "  <thead>\n",
       "    <tr style=\"text-align: right;\">\n",
       "      <th></th>\n",
       "      <th>accuracy</th>\n",
       "    </tr>\n",
       "  </thead>\n",
       "  <tbody>\n",
       "    <tr>\n",
       "      <th>LogisticRegression</th>\n",
       "      <td>0.882155</td>\n",
       "    </tr>\n",
       "    <tr>\n",
       "      <th>SVC</th>\n",
       "      <td>0.872054</td>\n",
       "    </tr>\n",
       "    <tr>\n",
       "      <th>KNeighborsClassifier</th>\n",
       "      <td>0.865320</td>\n",
       "    </tr>\n",
       "    <tr>\n",
       "      <th>RandomForestClassifier</th>\n",
       "      <td>0.863075</td>\n",
       "    </tr>\n",
       "    <tr>\n",
       "      <th>GradientBoostingClassifier</th>\n",
       "      <td>0.861953</td>\n",
       "    </tr>\n",
       "    <tr>\n",
       "      <th>AdaBoostClassifier</th>\n",
       "      <td>0.848485</td>\n",
       "    </tr>\n",
       "    <tr>\n",
       "      <th>DecisionTreeClassifier</th>\n",
       "      <td>0.832772</td>\n",
       "    </tr>\n",
       "    <tr>\n",
       "      <th>GaussianNB</th>\n",
       "      <td>0.812570</td>\n",
       "    </tr>\n",
       "  </tbody>\n",
       "</table>\n",
       "</div>"
      ],
      "text/plain": [
       "                            accuracy\n",
       "LogisticRegression          0.882155\n",
       "SVC                         0.872054\n",
       "KNeighborsClassifier        0.865320\n",
       "RandomForestClassifier      0.863075\n",
       "GradientBoostingClassifier  0.861953\n",
       "AdaBoostClassifier          0.848485\n",
       "DecisionTreeClassifier      0.832772\n",
       "GaussianNB                  0.812570"
      ]
     },
     "execution_count": 63,
     "metadata": {},
     "output_type": "execute_result"
    }
   ],
   "source": [
    "# 評価結果格納用のデータフレーム\n",
    "results = pd.DataFrame()\n",
    "\n",
    "# 各アルゴリズムのaccuracyを求める\n",
    "for clf in classifiers:\n",
    "    name = clf.__class__.__name__\n",
    "    # データの正規化(0～1の範囲に変換)を施してから機械学習をする(パイプラインを使用)\n",
    "    pl = Pipeline([('preprocess', MinMaxScaler()), ('clf', clf)])\n",
    "    # クロスバリデーション\n",
    "    # ※グリッドサーチのパラメータを空にして、クロスバリデーションのみ実施している\n",
    "    gscv = GridSearchCV(pl, scoring='accuracy', param_grid={}, cv=cv_split, n_jobs=8)\n",
    "    gscv.fit(X_train, target)\n",
    "    results = results.append(pd.DataFrame([gscv.best_score_], index=[name]))\n",
    "\n",
    "# 結果表示\n",
    "results.columns = ['accuracy']\n",
    "results.sort_values(by='accuracy', ascending=False)"
   ]
  },
  {
   "cell_type": "code",
   "execution_count": 64,
   "metadata": {
    "collapsed": true,
    "slideshow": {
     "slide_type": "slide"
    }
   },
   "outputs": [],
   "source": [
    "# 指定したモデルとパラメータでグリッドサーチ＆クロスバリデーションして\n",
    "# ベストパラメータでテストデータの予測をして予測結果を返す\n",
    "def run_predict(clf, params, current_features):\n",
    "    # トレーニングデータ\n",
    "    X = train[current_features]\n",
    "\n",
    "    # 正規化を実施するパイプライン\n",
    "    pl = Pipeline([('preprocess', MinMaxScaler()), ('clf', clf)])\n",
    "    \n",
    "    # パラメータ名の接頭辞変換(パイプライン対応)\n",
    "    new_params = {}\n",
    "    for k, v in params.items():\n",
    "        new_params['clf__' + k] = v\n",
    "    \n",
    "    # グリッドサーチ＆クロスバリデーション\n",
    "    gscv = GridSearchCV(pl, scoring='accuracy', param_grid=new_params, cv=cv_split, n_jobs=8)\n",
    "    gscv.fit(X, target)\n",
    "    print('Best score: {}'.format(gscv.best_score_))\n",
    "    print('Best params: {}'.format(gscv.best_params_))\n",
    "\n",
    "    # テストデータ\n",
    "    X_test = test[current_features]\n",
    "\n",
    "    # ベストパラメータで予測\n",
    "    pred = gscv.predict(X_test)\n",
    "\n",
    "    # 結果格納\n",
    "    result = pd.DataFrame()\n",
    "    result['PassengerId'] = combined[891:]['PassengerId'].tolist()\n",
    "    result['Survived'] = pred.astype(int)\n",
    "    return result, gscv.best_score_, clf.__class__.__name__"
   ]
  },
  {
   "cell_type": "markdown",
   "metadata": {
    "slideshow": {
     "slide_type": "slide"
    }
   },
   "source": [
    "## accuracy > 0.85 のモデルに対して、パラメータチューニングを実施\n",
    "- GradientBoosting\n",
    "- RandomForest\n",
    "- LogisticRegression\n",
    "- SVC\n",
    "- KNeighbors"
   ]
  },
  {
   "cell_type": "code",
   "execution_count": 65,
   "metadata": {
    "slideshow": {
     "slide_type": "subslide"
    }
   },
   "outputs": [
    {
     "name": "stdout",
     "output_type": "stream",
     "text": [
      "Best score: 0.8754208754208754\n",
      "Best params: {'clf__learning_rate': 0.001, 'clf__max_depth': 4, 'clf__max_features': None, 'clf__min_samples_leaf': 1, 'clf__min_samples_split': 4, 'clf__n_estimators': 3000}\n"
     ]
    }
   ],
   "source": [
    "# GradientBoostingClassifier\n",
    "# モデル\n",
    "clf = GradientBoostingClassifier(random_state=0)\n",
    "\n",
    "# パラメータ\n",
    "params = {\n",
    "    'min_samples_leaf': [1],\n",
    "    'max_depth': [3,4,5],\n",
    "    'min_samples_split': [3,4,5],\n",
    "    'learning_rate': [0.001],\n",
    "    'max_features': [None],\n",
    "    'n_estimators': [3000]\n",
    "}\n",
    "\n",
    "# グリッドサーチ＆クロスバリデーション、予測結果\n",
    "result = []\n",
    "result.append(run_predict(clf, params, selected_features))"
   ]
  },
  {
   "cell_type": "code",
   "execution_count": 66,
   "metadata": {
    "slideshow": {
     "slide_type": "subslide"
    }
   },
   "outputs": [
    {
     "name": "stdout",
     "output_type": "stream",
     "text": [
      "Best score: 0.877665544332211\n",
      "Best params: {'clf__class_weight': {0: 0.6, 1: 0.4}, 'clf__max_depth': None, 'clf__max_features': 'auto', 'clf__min_samples_leaf': 1, 'clf__min_samples_split': 5, 'clf__n_estimators': 3000}\n"
     ]
    }
   ],
   "source": [
    "# RandomForestClassifier\n",
    "# モデル\n",
    "clf = RandomForestClassifier(random_state=0)\n",
    "\n",
    "# パラメータ\n",
    "params = {\n",
    "    'min_samples_leaf': [1],\n",
    "    'max_depth': [None],\n",
    "    'min_samples_split': [4,5,6],\n",
    "    'max_features': ['auto'],\n",
    "    'class_weight': [{0:0.6,1:0.4}, {0:0.5,1:0.5}, {0:0.4,1:0.6}],\n",
    "    'n_estimators': [3000]\n",
    "}\n",
    "\n",
    "# グリッドサーチ＆クロスバリデーション、予測結果\n",
    "result.append(run_predict(clf, params, selected_features))"
   ]
  },
  {
   "cell_type": "code",
   "execution_count": 67,
   "metadata": {
    "slideshow": {
     "slide_type": "subslide"
    }
   },
   "outputs": [
    {
     "name": "stdout",
     "output_type": "stream",
     "text": [
      "Best score: 0.8821548821548821\n",
      "Best params: {'clf__C': 1, 'clf__class_weight': {0: 0.5, 1: 0.5}}\n"
     ]
    }
   ],
   "source": [
    "# LogisticRegression\n",
    "# モデル\n",
    "clf = LogisticRegression(random_state=0)\n",
    "\n",
    "# パラメータ\n",
    "params = {\n",
    "    'C': [0.001, 0.01, 0.1, 1, 10, 100],\n",
    "    'class_weight': [{0:0.6,1:0.4}, {0:0.5,1:0.5}, {0:0.4,1:0.6}],\n",
    "}\n",
    "\n",
    "# グリッドサーチ＆クロスバリデーション、予測結果\n",
    "result.append(run_predict(clf, params, selected_features))"
   ]
  },
  {
   "cell_type": "code",
   "execution_count": 68,
   "metadata": {
    "slideshow": {
     "slide_type": "subslide"
    }
   },
   "outputs": [
    {
     "name": "stdout",
     "output_type": "stream",
     "text": [
      "Best score: 0.8810325476992144\n",
      "Best params: {'clf__C': 10, 'clf__class_weight': {0: 0.5, 1: 0.5}}\n"
     ]
    }
   ],
   "source": [
    "# SVC\n",
    "# モデル\n",
    "clf = SVC(random_state=0, probability=True)\n",
    "\n",
    "# パラメータ\n",
    "params = {\n",
    "    'C': [0.001, 0.01, 0.1, 1, 10, 100],\n",
    "    'class_weight': [{0:0.6,1:0.4}, {0:0.5,1:0.5}, {0:0.4,1:0.6}],\n",
    "}\n",
    "\n",
    "# グリッドサーチ＆クロスバリデーション、予測結果\n",
    "result.append(run_predict(clf, params, selected_features))"
   ]
  },
  {
   "cell_type": "code",
   "execution_count": 69,
   "metadata": {
    "slideshow": {
     "slide_type": "subslide"
    }
   },
   "outputs": [
    {
     "name": "stdout",
     "output_type": "stream",
     "text": [
      "Best score: 0.8731762065095399\n",
      "Best params: {'clf__n_neighbors': 6}\n"
     ]
    }
   ],
   "source": [
    "# K-NearestNeighborsClassifier\n",
    "# モデル\n",
    "clf = KNeighborsClassifier()\n",
    "\n",
    "# パラメータ\n",
    "params = {'n_neighbors': [3,4,5,6,7]}\n",
    "\n",
    "# グリッドサーチ＆クロスバリデーション、予測結果\n",
    "result.append(run_predict(clf, params, selected_features))"
   ]
  },
  {
   "cell_type": "markdown",
   "metadata": {
    "slideshow": {
     "slide_type": "slide"
    }
   },
   "source": [
    "## 各モデルの結果をまとめる"
   ]
  },
  {
   "cell_type": "code",
   "execution_count": 70,
   "metadata": {
    "slideshow": {
     "slide_type": "-"
    }
   },
   "outputs": [
    {
     "data": {
      "text/html": [
       "<div>\n",
       "<style>\n",
       "    .dataframe thead tr:only-child th {\n",
       "        text-align: right;\n",
       "    }\n",
       "\n",
       "    .dataframe thead th {\n",
       "        text-align: left;\n",
       "    }\n",
       "\n",
       "    .dataframe tbody tr th {\n",
       "        vertical-align: top;\n",
       "    }\n",
       "</style>\n",
       "<table border=\"1\" class=\"dataframe\">\n",
       "  <thead>\n",
       "    <tr style=\"text-align: right;\">\n",
       "      <th></th>\n",
       "      <th>Accuracy</th>\n",
       "      <th>SurvivedRate</th>\n",
       "    </tr>\n",
       "  </thead>\n",
       "  <tbody>\n",
       "    <tr>\n",
       "      <th>GradientBoostingClassifier</th>\n",
       "      <td>0.875421</td>\n",
       "      <td>0.373206</td>\n",
       "    </tr>\n",
       "    <tr>\n",
       "      <th>RandomForestClassifier</th>\n",
       "      <td>0.877666</td>\n",
       "      <td>0.356459</td>\n",
       "    </tr>\n",
       "    <tr>\n",
       "      <th>LogisticRegression</th>\n",
       "      <td>0.882155</td>\n",
       "      <td>0.385167</td>\n",
       "    </tr>\n",
       "    <tr>\n",
       "      <th>SVC</th>\n",
       "      <td>0.881033</td>\n",
       "      <td>0.385167</td>\n",
       "    </tr>\n",
       "    <tr>\n",
       "      <th>KNeighborsClassifier</th>\n",
       "      <td>0.873176</td>\n",
       "      <td>0.337321</td>\n",
       "    </tr>\n",
       "  </tbody>\n",
       "</table>\n",
       "</div>"
      ],
      "text/plain": [
       "                            Accuracy  SurvivedRate\n",
       "GradientBoostingClassifier  0.875421      0.373206\n",
       "RandomForestClassifier      0.877666      0.356459\n",
       "LogisticRegression          0.882155      0.385167\n",
       "SVC                         0.881033      0.385167\n",
       "KNeighborsClassifier        0.873176      0.337321"
      ]
     },
     "execution_count": 70,
     "metadata": {},
     "output_type": "execute_result"
    }
   ],
   "source": [
    "# result : (予測結果DataFrame, Accuracy, Classifier)\n",
    "result_df = pd.DataFrame()\n",
    "result_df['Accuracy'] = [i[1] for i in result]\n",
    "result_df['SurvivedRate'] = [i[0].Survived.mean() for i in result]\n",
    "result_df.index = [i[2] for i in result]\n",
    "result_df"
   ]
  },
  {
   "cell_type": "markdown",
   "metadata": {
    "slideshow": {
     "slide_type": "fragment"
    }
   },
   "source": [
    "- 全体では、2224名の乗員乗客のうち1502名が死亡した\n",
    "    - 全体の生存率は、(2224-1502)/2224 = 0.325\n",
    "- 生存率が近いほうが、予測精度は良いのかもしれない\n",
    "    - Accuracyが高く生存率も高いのは、トレーニングデータに過度に適合している可能性(過学習)\n",
    "    - 正解データは手元にないので、本当の精度は分からない・・・"
   ]
  },
  {
   "cell_type": "markdown",
   "metadata": {
    "slideshow": {
     "slide_type": "slide"
    }
   },
   "source": [
    "# 予測データをKaggleに登録してみた"
   ]
  },
  {
   "cell_type": "code",
   "execution_count": 71,
   "metadata": {
    "collapsed": true,
    "slideshow": {
     "slide_type": "-"
    }
   },
   "outputs": [],
   "source": [
    "from datetime import datetime\n",
    "\n",
    "# 予測結果をファイル出力\n",
    "now = datetime.now()\n",
    "now_str = now.strftime('%Y%m%d%H%M%S')\n",
    "file = 'predict_' + now_str + '.csv'\n",
    "\n",
    "# RandomForestの結果\n",
    "#result_rf.to_csv(file, index=False)"
   ]
  },
  {
   "cell_type": "markdown",
   "metadata": {
    "collapsed": true,
    "slideshow": {
     "slide_type": "subslide"
    }
   },
   "source": [
    "# 結果・・・"
   ]
  },
  {
   "cell_type": "markdown",
   "metadata": {
    "slideshow": {
     "slide_type": "fragment"
    }
   },
   "source": [
    "![result](predict_result_080861.png)\n",
    "\n",
    "正解率=0.80861で、791位 / 9570人 でした。  \n",
    "なんとか、上位10%に入りました。  \n",
    "結果としては、RandomForestがいちばんよい結果でした。"
   ]
  },
  {
   "cell_type": "markdown",
   "metadata": {
    "slideshow": {
     "slide_type": "slide"
    }
   },
   "source": [
    "# まとめ"
   ]
  },
  {
   "cell_type": "markdown",
   "metadata": {
    "collapsed": true,
    "slideshow": {
     "slide_type": "subslide"
    }
   },
   "source": [
    "### 生データをよく調べる、必要に応じてデータを加工する\n",
    "- 背後に潜んでいる意味や因果関係を考えることも大事\n",
    "- Correcting / Completing / Creating / Converting\n",
    "    \n",
    "### 機械学習に使用する特徴量を選ぶ (または次元削減する)\n",
    "- 『次元の呪い』の回避\n",
    "\n",
    "### 目的に適した機械学習アルゴリズムを選択する\n",
    "- 今回はクラス分類アルゴリズムを使用した\n",
    "- 数値予測であれば、回帰アルゴリズムを使用する（年齢推定で使った）\n",
    "\n",
    "### モデルの評価・チューニングをする\n",
    "- クロスバリデーション／グリッドサーチ\n",
    "- いろいろな評価尺度"
   ]
  },
  {
   "cell_type": "markdown",
   "metadata": {
    "collapsed": true,
    "slideshow": {
     "slide_type": "slide"
    }
   },
   "source": [
    "### (参考)機械学習アルゴリズムの選択\n",
    "<img src=http://scikit-learn.org/stable/_static/ml_map.png width=90%>"
   ]
  },
  {
   "cell_type": "code",
   "execution_count": null,
   "metadata": {
    "collapsed": true,
    "slideshow": {
     "slide_type": "skip"
    }
   },
   "outputs": [],
   "source": []
  }
 ],
 "metadata": {
  "celltoolbar": "Slideshow",
  "kernelspec": {
   "display_name": "Python 3",
   "language": "python",
   "name": "python3"
  },
  "language_info": {
   "codemirror_mode": {
    "name": "ipython",
    "version": 3
   },
   "file_extension": ".py",
   "mimetype": "text/x-python",
   "name": "python",
   "nbconvert_exporter": "python",
   "pygments_lexer": "ipython3",
   "version": "3.6.3"
  }
 },
 "nbformat": 4,
 "nbformat_minor": 2
}
